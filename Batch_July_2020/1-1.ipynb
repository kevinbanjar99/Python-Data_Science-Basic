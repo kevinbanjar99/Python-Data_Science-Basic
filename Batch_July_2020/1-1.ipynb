{
  "nbformat": 4,
  "nbformat_minor": 0,
  "metadata": {
    "kernelspec": {
      "display_name": "Python 3",
      "language": "python",
      "name": "python3"
    },
    "language_info": {
      "codemirror_mode": {
        "name": "ipython",
        "version": 3
      },
      "file_extension": ".py",
      "mimetype": "text/x-python",
      "name": "python",
      "nbconvert_exporter": "python",
      "pygments_lexer": "ipython3",
      "version": "3.7.7"
    },
    "colab": {
      "name": "Copy of Copy of Tugas Hari 1.ipynb",
      "provenance": [],
      "collapsed_sections": []
    }
  },
  "cells": [
    {
      "cell_type": "markdown",
      "metadata": {
        "id": "37V7ZOpEwt-6"
      },
      "source": [
        "<h2>Soal 1: Hello World to Python</h2>\n",
        "    \n",
        "Print Say Hello World to Python"
      ]
    },
    {
      "cell_type": "code",
      "metadata": {
        "id": "a4yR8AILwt-8",
        "colab": {
          "base_uri": "https://localhost:8080/",
          "height": 34
        },
        "outputId": "daaec083-9c4e-443e-d593-c63885f7f409"
      },
      "source": [
        "print(\"Hello World Phyton\")"
      ],
      "execution_count": null,
      "outputs": [
        {
          "output_type": "stream",
          "text": [
            "Hello World Phyton\n"
          ],
          "name": "stdout"
        }
      ]
    },
    {
      "cell_type": "markdown",
      "metadata": {
        "id": "fftihhaUwt_B"
      },
      "source": [
        "Expected Output : \n",
        "\n",
        "Hello World Python"
      ]
    },
    {
      "cell_type": "markdown",
      "metadata": {
        "id": "1aEipc1Swt_C"
      },
      "source": [
        "<h2>Soal 2: Aritmatika di Python </h2>\n",
        "    \n",
        "- Buat statement pertambahan antara 2 number di Python\n",
        "- Buat statement perkurangan antara 2 number di Python\n",
        "- Buat statement perkalian antara 2 number di Python\n",
        "- Buat statement pembagian antara 2 number di Python"
      ]
    },
    {
      "cell_type": "code",
      "metadata": {
        "id": "hOlCjZzrwt_D",
        "colab": {
          "base_uri": "https://localhost:8080/",
          "height": 85
        },
        "outputId": "3d736d0d-c947-4369-f231-dcef0dcaba84"
      },
      "source": [
        "# Inisiasi variabel angka\n",
        "num1 = 6\n",
        "num2 = 2\n",
        "addOp = num1+num2 # Operasi Penjumlahan\n",
        "subOp = num1-num2 # Operasi Pengurangan\n",
        "mulOp = num1*num2 # Operasi Perkalian\n",
        "divOp = num1/num2 # Operasi Pembagian\n",
        "print ('Hasil Penjumlahan : %d' % (addOp)) # Print Hasil Penjumlahan\n",
        "print ('Hasil Pengurangan : %d' % (subOp)) # Print Hasil Pengurangan\n",
        "print ('Hasil Perkalian : %d' % (mulOp)) # Print Hasil Perkalian\n",
        "print ('Hasil Pembagian : %d' % (divOp)) # Print Hasil Pembagian"
      ],
      "execution_count": null,
      "outputs": [
        {
          "output_type": "stream",
          "text": [
            "Hasil Penjumlahan : 8\n",
            "Hasil Pengurangan : 4\n",
            "Hasil Perkalian : 12\n",
            "Hasil Pembagian : 3\n"
          ],
          "name": "stdout"
        }
      ]
    },
    {
      "cell_type": "markdown",
      "metadata": {
        "id": "DgUFNMtZwt_G"
      },
      "source": [
        "<h2>Quiz 3: Assign Variable dan Tipe Data Integer, Float </h2>\n",
        "\n",
        "- Buat suatu variabel a dan b, dimana a dan b adalah nilai bertipe data numeric\n",
        "- Berikan suatu nilai bertipe data integer, hasil pembagian dari a dengan b\n",
        "- Berikan suatu nilai bertipe data float, hasil pembagian dari a dengan b"
      ]
    },
    {
      "cell_type": "code",
      "metadata": {
        "id": "Qf8wzMg5wt_H",
        "colab": {
          "base_uri": "https://localhost:8080/",
          "height": 51
        },
        "outputId": "f6ff5607-1b26-48e7-abee-07285882d565"
      },
      "source": [
        "# Inisiasi variabel angka\n",
        "num1 = 8\n",
        "num2 = 5\n",
        "intDivOp = int(num1/num2) # Operasi Pembagian untuk data bertipe integer\n",
        "floDivOp = float(num1/num2) # Operasi Pembagian untuk data bertipe float\n",
        "print ('Hasil Pembagian (tipe integer) : %d' % (intDivOp)) # Print Hasil Pembagian untuk data bertipe integer\n",
        "print ('Hasil Pembagian (tipe float) : %f' % (floDivOp)) # Print Hasil Pembagian untuk data bertipe float\n"
      ],
      "execution_count": null,
      "outputs": [
        {
          "output_type": "stream",
          "text": [
            "Hasil Pembagian (tipe integer) : 1\n",
            "Hasil Pembagian (tipe float) : 1.600000\n"
          ],
          "name": "stdout"
        }
      ]
    },
    {
      "cell_type": "markdown",
      "metadata": {
        "id": "XmjLgW7Zwt_L"
      },
      "source": [
        "<h2>Soal 4: String Operation </h2>\n",
        "\n",
        "- masukan nama depan kamu kedalam suatu variable firstname\n",
        "- masukan nama belakang kamu kedalam suatu variable lasname\n",
        "- tampilkan suatu kalimat 'Hello sanbercode, saya firstname lastname! saya siap belajar python data science.'"
      ]
    },
    {
      "cell_type": "code",
      "metadata": {
        "id": "lSRwZ7xXwt_M",
        "colab": {
          "base_uri": "https://localhost:8080/",
          "height": 34
        },
        "outputId": "3b4a962a-b311-4ef9-f67d-5a3a9330cca3"
      },
      "source": [
        "# Inisiasi variabel string\n",
        "firstName = \"Kevin\"\n",
        "lastName = \"Banjarnahor\"\n",
        "# Print kalimat\n",
        "print('Hello sanbercode, saya %s %s! saya siap belajar python data science' % (firstName,lastName))"
      ],
      "execution_count": null,
      "outputs": [
        {
          "output_type": "stream",
          "text": [
            "Hello sanbercode, saya Kevin Banjarnahor! saya siap belajar python data science\n"
          ],
          "name": "stdout"
        }
      ]
    },
    {
      "cell_type": "markdown",
      "metadata": {
        "id": "0ROQJqBXwt_Q"
      },
      "source": [
        "Expected Output :\n",
        "\n",
        "Hello sanbercode, saya fauzan taufik! saya siap belajar python data science."
      ]
    },
    {
      "cell_type": "markdown",
      "metadata": {
        "id": "9DaWI8xdwt_Q"
      },
      "source": [
        "<h2>Soal 5: Tipe Data</h2>\n",
        "\n",
        "Lengkapi code di bawah ini untuk menghasilkan output yang sesuai"
      ]
    },
    {
      "cell_type": "code",
      "metadata": {
        "id": "wcDbgbjTwt_R",
        "colab": {
          "base_uri": "https://localhost:8080/",
          "height": 34
        },
        "outputId": "87e0dadd-fbca-4b00-a853-87fdc50f41e0"
      },
      "source": [
        "p = 9.99999\n",
        "q = 'the number: '\n",
        "print('%s %f' % (q,p))"
      ],
      "execution_count": null,
      "outputs": [
        {
          "output_type": "stream",
          "text": [
            "the number:  9.999990\n"
          ],
          "name": "stdout"
        }
      ]
    },
    {
      "cell_type": "markdown",
      "metadata": {
        "id": "wdVRjDoLwt_V"
      },
      "source": [
        "Expected Output :\n",
        "\n",
        "the number: 9.99999"
      ]
    }
  ]
}