{
  "nbformat": 4,
  "nbformat_minor": 0,
  "metadata": {
    "kernelspec": {
      "display_name": "Python 3",
      "language": "python",
      "name": "python3"
    },
    "language_info": {
      "codemirror_mode": {
        "name": "ipython",
        "version": 3
      },
      "file_extension": ".py",
      "mimetype": "text/x-python",
      "name": "python",
      "nbconvert_exporter": "python",
      "pygments_lexer": "ipython3",
      "version": "3.7.7"
    },
    "colab": {
      "name": "Tugas Hari 2.ipynb",
      "provenance": [],
      "collapsed_sections": []
    }
  },
  "cells": [
    {
      "cell_type": "markdown",
      "metadata": {
        "id": "I6jmLA-RYrt5"
      },
      "source": [
        "<h2>Soal 1: Helper Function</h2>\n",
        "\n",
        "Jawab Pertanyaan di bawah ini:\n",
        "\n",
        "Misalkan kamu ingin mengetahui tentang kegunaan fungsi 'len' di Python, maka fungsi apa yang bisa kamu gunakan untuk menolong kamu?"
      ]
    },
    {
      "cell_type": "code",
      "metadata": {
        "id": "VrvyQxGJYrt9",
        "colab": {
          "base_uri": "https://localhost:8080/",
          "height": 102
        },
        "outputId": "20196fab-df8e-41d0-ba19-c636f81fd59e"
      },
      "source": [
        "# lengkapi code ini\n",
        "\n",
        "# Gunakan fungsi help(*nama fungsi yang ingin diketahui*)\n",
        "help(len)"
      ],
      "execution_count": null,
      "outputs": [
        {
          "output_type": "stream",
          "text": [
            "Help on built-in function len in module builtins:\n",
            "\n",
            "len(obj, /)\n",
            "    Return the number of items in a container.\n",
            "\n"
          ],
          "name": "stdout"
        }
      ]
    },
    {
      "cell_type": "markdown",
      "metadata": {
        "id": "KrcuFTuAYruT"
      },
      "source": [
        "<h2>Soal 2: Built-in Function</h2>\n",
        "\n",
        "Jawab Pertanyaan di bawah ini:\n",
        "    \n",
        "Apa itu built-in Function?\n",
        "\n",
        "Sebutkan 3 built-in Function di pyhon!\n",
        "\n",
        "Berikan contoh masing2 1 cara penggunaan built-in function yang kamu sebutkan sebelumnya"
      ]
    },
    {
      "cell_type": "markdown",
      "metadata": {
        "id": "xro-58_CYruW"
      },
      "source": [
        "JAWAB :\n",
        "\n",
        "Built-In Function dapat didefenisikan sebagai fungsi bawaan pada aplikasi pemograman.\n",
        "\n",
        "Berikut adalah beberapa built-in Function pada python :\n",
        "1. abs() = Memberikan nilai absolut dari suatu angka\n",
        "2. len() = Memberikan nilai yang merepresentasikan banyak data dari suatu array\n",
        "3. min() = Memberikan nilai minimum dari suatu kumpulan data atau array\n"
      ]
    },
    {
      "cell_type": "code",
      "metadata": {
        "id": "Xv7lHkgfYruY",
        "colab": {
          "base_uri": "https://localhost:8080/",
          "height": 68
        },
        "outputId": "6a93d463-3008-4698-bec0-c47e7b418959"
      },
      "source": [
        "# Contoh fungsi abs()\n",
        "print(abs(-3.14))\n",
        "\n",
        "# Contoh fungsi len()\n",
        "print(len([1,4,34,2,9]))\n",
        "\n",
        "# Contoh fungsi min()\n",
        "print(min([56,7,32,94,17,67]))"
      ],
      "execution_count": null,
      "outputs": [
        {
          "output_type": "stream",
          "text": [
            "3.14\n",
            "5\n",
            "7\n"
          ],
          "name": "stdout"
        }
      ]
    },
    {
      "cell_type": "markdown",
      "metadata": {
        "id": "yhWXiPNDYrul"
      },
      "source": [
        "<h2>Soal 3: Method dan Function</h2>\n",
        "\n",
        "Jawab Pertanyaan di bawah ini:\n",
        "    \n",
        "- Apa perbedaan method dan function?"
      ]
    },
    {
      "cell_type": "markdown",
      "metadata": {
        "id": "rqpTJlgDYrun"
      },
      "source": [
        "JAWAB :\n",
        "\n",
        "1.\n",
        "Function dapat dipanggil secara independen\n",
        "\n",
        "Misalnya:\n",
        "\n",
        "Untuk mencari total dari array A = [1,2,3,4,5]. Dapat diperoleh dengan menggunakan fungsi sum.\n",
        ">> sum(A)\n",
        "\n",
        "Dimana sum merupakan function dan A sebagai variabel untuk dioperasikan\n",
        "\n",
        "2. \n",
        "Method dipanggil menggunakan suatu variabel referensi atau objek\n",
        "\n",
        "Misalnya:\n",
        "\n",
        "Kita ingin mencari berapa huruf 'i' pada sebuah variabel string : \n",
        "\n",
        ">> text = \"lorem ipsum\".\n",
        "\n",
        "Hal ini dapat deselesaikan dengan menggunakan method count, dimana formulanya :\n",
        "\n",
        ">>string.count(\"*huruf/kata yang dipilih*\")\n",
        "\n",
        "Dimana, string pada fungsi tersebut adalah variabel referensi pada method count, sehingga penulisannya menjadi :\n",
        "\n",
        ">>text.count(\"i\")"
      ]
    },
    {
      "cell_type": "markdown",
      "metadata": {
        "id": "tUU1xgYBYrup"
      },
      "source": [
        "<h2>Soal 4: Menggunkan Method String</h2>\n",
        "\n",
        "Lengkapi kode untuk menghasilkan suatu output yang di harapkan"
      ]
    },
    {
      "cell_type": "code",
      "metadata": {
        "id": "037gauOGYrur",
        "colab": {
          "base_uri": "https://localhost:8080/",
          "height": 51
        },
        "outputId": "0820e345-dfcb-4514-9a07-38b4ac1ac96b"
      },
      "source": [
        "kalimat = \"Corona cepat selesai\"\n",
        "\n",
        "# gunakan method untuk mengubah nilai kalimat menjadi uppercase semua kemudian tampilkan hasilnya\n",
        "print(kalimat.upper())\n",
        "\n",
        "# gunakan method untuk menghitung berapa huruf e di dalam kalimat\n",
        "print(kalimat.count(\"e\"))"
      ],
      "execution_count": null,
      "outputs": [
        {
          "output_type": "stream",
          "text": [
            "CORONA CEPAT SELESAI\n",
            "3\n"
          ],
          "name": "stdout"
        }
      ]
    },
    {
      "cell_type": "markdown",
      "metadata": {
        "id": "fPTd4R5VYru5"
      },
      "source": [
        "Expected Output:\n",
        "\n",
        "CORONA CEPAT SELESAI\n",
        "\n",
        "3"
      ]
    },
    {
      "cell_type": "markdown",
      "metadata": {
        "id": "IPjp5vwDYrvL"
      },
      "source": [
        "<h2>Soal 5: Membuat Simple Function</h2>\n",
        "\n",
        "Buatlah suatu fungsi yang menerima satu input argumen berbentuk list dan mempunyai elemen bertipe numeric semua, dimana fungsi tersebut berguna untuk menghitung rata2 dari kumpulan elemen list tersebut. namai fungsi tersebut 'mean_list'"
      ]
    },
    {
      "cell_type": "code",
      "metadata": {
        "id": "smoKI9zIYrvO",
        "colab": {
          "base_uri": "https://localhost:8080/",
          "height": 34
        },
        "outputId": "3d2b73a7-26a8-496d-99e1-78f9d79e907f"
      },
      "source": [
        "obj_list = [11.25, 18.0, 20.0, 10.75, 9.50]\n",
        "\n",
        "def mean_list(inp_list):\n",
        "    arraySum = sum(obj_list) # Menjumlahkan seluruh isi array\n",
        "    arrayAmount = len(obj_list) # Menghitung banyaknya data pada array\n",
        "    mean = arraySum/arrayAmount # Mencari rata-rata dari array\n",
        "    return mean # Mengembalikan nilai rata-rata\n",
        "\n",
        "print(mean_list(obj_list))\n"
      ],
      "execution_count": null,
      "outputs": [
        {
          "output_type": "stream",
          "text": [
            "13.9\n"
          ],
          "name": "stdout"
        }
      ]
    },
    {
      "cell_type": "markdown",
      "metadata": {
        "id": "MVAvoHHgYrva"
      },
      "source": [
        "Expected Output:\n",
        "\n",
        "13.9"
      ]
    },
    {
      "cell_type": "markdown",
      "metadata": {
        "id": "A8jjpNC8Yrvc"
      },
      "source": [
        "<h2>Soal 6: Membuat Function dengan Multiple arguments</h2>\n",
        "\n",
        "Buatlah suatu fungsi untuk melakukan penggabungan antara dua list"
      ]
    },
    {
      "cell_type": "code",
      "metadata": {
        "id": "r42z4mafYrve",
        "colab": {
          "base_uri": "https://localhost:8080/",
          "height": 34
        },
        "outputId": "62876526-a7b9-47ba-80eb-f46d72c5d77a"
      },
      "source": [
        "obj_list = [2, 4, 5, 6]\n",
        "obj_penambah = [1, 2, 3]\n",
        "def kali_list(list1, list2):\n",
        "    # Pada python, melakukan penambahan antara 2 array,\n",
        "    # akan menggabungkan kedua array tersebut\n",
        "    combinedList = list1 + list2  \n",
        "    return combinedList # Mengembalikan array hasil gabungan\n",
        "    \n",
        "print(kali_list(obj_list, obj_penambah))"
      ],
      "execution_count": null,
      "outputs": [
        {
          "output_type": "stream",
          "text": [
            "[2, 4, 5, 6, 1, 2, 3]\n"
          ],
          "name": "stdout"
        }
      ]
    },
    {
      "cell_type": "markdown",
      "metadata": {
        "id": "RYhU921kYrvp"
      },
      "source": [
        "Expected Output:\n",
        "\n",
        "[2, 4, 5, 6, 1, 2, 3]"
      ]
    }
  ]
}