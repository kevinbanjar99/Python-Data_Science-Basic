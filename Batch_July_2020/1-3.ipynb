{
  "nbformat": 4,
  "nbformat_minor": 0,
  "metadata": {
    "kernelspec": {
      "display_name": "Python 3",
      "language": "python",
      "name": "python3"
    },
    "language_info": {
      "codemirror_mode": {
        "name": "ipython",
        "version": 3
      },
      "file_extension": ".py",
      "mimetype": "text/x-python",
      "name": "python",
      "nbconvert_exporter": "python",
      "pygments_lexer": "ipython3",
      "version": "3.7.7"
    },
    "colab": {
      "name": "Tugas Hari 3_Kevin Natio Banjarnahor.ipynb",
      "provenance": [],
      "collapsed_sections": []
    }
  },
  "cells": [
    {
      "cell_type": "markdown",
      "metadata": {
        "id": "a9HYUdCUsrKl"
      },
      "source": [
        "<h2>Soal 1: Comparison Operator</h2>\n",
        "\n",
        "- Berikan contoh comparison dari tipe data string\n",
        "- Berikan contoh comparison dari tipe data boolean\n",
        "- Berikan contoh comparison dari tipe data integer"
      ]
    },
    {
      "cell_type": "code",
      "metadata": {
        "id": "lXMCHZ71srKp",
        "colab": {
          "base_uri": "https://localhost:8080/",
          "height": 374
        },
        "outputId": "2c596342-1a83-49d4-ea8f-fd0b6777eec4"
      },
      "source": [
        "print(\"STRING\")\n",
        "# Catatan : Komparasi string bersifat case-sensitive\n",
        "print(\"Nasi Goreng = Nasi Goreng : \",\"Nasi Goreng\" == \"Nasi Goreng\" )\n",
        "print(\"Nasi Goreng = nasi Goreng : \",\"Nasi Goreng\" == \"nasi Goreng\" )\n",
        "print(\"Nasi Goreng = Ikan Goreng : \",\"Nasi Goreng\" == \"Ikan Goreng\" )\n",
        "\n",
        "print(\"\\n\")\n",
        "\n",
        "print(\"BOOLEAN\")\n",
        "a = True\n",
        "b = False\n",
        "print(\"a : \", a )\n",
        "print(\"b : \", b )\n",
        "print(\"a and b : \", a and b)\n",
        "print(\"a or b : \", a or b)\n",
        "print(\"not a : \", not a)\n",
        "\n",
        "print(\"\\n\")\n",
        "\n",
        "print(\"INTEGER\")\n",
        "print(\"7 == 3: \", 7 == 3)\n",
        "print(\"7 != 3: \", 7 != 3)\n",
        "print(\"7 < 3: \", 7 < 3)\n",
        "print(\"7 > 3: \", 7 > 3)\n",
        "print(\"7 <= 3: \", 7 <= 3)\n",
        "print(\"7 >= 3: \", 7 >= 3)\n"
      ],
      "execution_count": null,
      "outputs": [
        {
          "output_type": "stream",
          "text": [
            "STRING\n",
            "Nasi Goreng = Nasi Goreng :  True\n",
            "Nasi Goreng = nasi Goreng :  False\n",
            "Nasi Goreng = Ikan Goreng :  False\n",
            "\n",
            "\n",
            "BOOLEAN\n",
            "a :  True\n",
            "b :  False\n",
            "a and b :  False\n",
            "a or b :  True\n",
            "not a :  False\n",
            "\n",
            "\n",
            "INTEGER\n",
            "7 == 3:  False\n",
            "7 != 3:  True\n",
            "7 < 3:  False\n",
            "7 > 3:  True\n",
            "7 <= 3:  False\n",
            "7 >= 3:  True\n"
          ],
          "name": "stdout"
        }
      ]
    },
    {
      "cell_type": "markdown",
      "metadata": {
        "id": "IbNoZvVssrK5"
      },
      "source": [
        "<h2>Soal 2: Boolean Comparison</h2>\n",
        "\n",
        "- Berikan contoh gabungan multiple comparison menggunkan Boolean Comparisin 'and'\n",
        "- Berikan contoh gabungan multiple comparison menggunkan Boolean Comparisin 'or'\n",
        "- Berikan contoh gabungan multiple comparison menggunkan Boolean Comparisin 'not'"
      ]
    },
    {
      "cell_type": "code",
      "metadata": {
        "id": "7eU1vPLCsrK7",
        "colab": {
          "base_uri": "https://localhost:8080/",
          "height": 374
        },
        "outputId": "305757d8-9e84-4917-87de-92b38a353811"
      },
      "source": [
        "a = 8==8 #True\n",
        "b = 7<=2 #False\n",
        "c = \"telur\"!=\"ayam\" #True\n",
        "d = 2<1 #False\n",
        "\n",
        "print(\"a : \", a)\n",
        "print(\"b : \", b)\n",
        "print(\"c : \", c)\n",
        "print(\"d : \", d)\n",
        "\n",
        "print(\"\\n\")\n",
        "\n",
        "print(\"AND\")\n",
        "# Boolean Comparison 'and' akan bernilai \"true\" jika masing-masing statement yang dibandingkan juga bernilai \"true\"\n",
        "print(\"a and c: \", a and c)\n",
        "print(\"a and b: \", a and b)\n",
        "print(\"b and d: \", b and d)\n",
        "\n",
        "print(\"\\n\")\n",
        "\n",
        "print(\"OR\")\n",
        "# Boolean Comparison 'or' akan bernilai \"true\" jika salah satu statement bernilai \"true\"\n",
        "print(\"a or c: \", a or c)\n",
        "print(\"a or b: \", a or b)\n",
        "print(\"b or d: \", b or d)\n",
        "\n",
        "print(\"\\n\")\n",
        "\n",
        "print(\"NOT\")\n",
        "# Boolean Comparison 'not' akan bernilai \"true\" jika statement bernilai \"false\"\n",
        "print(\"not a: \", not a)\n",
        "print(\"not b: \", not b)\n"
      ],
      "execution_count": null,
      "outputs": [
        {
          "output_type": "stream",
          "text": [
            "a :  True\n",
            "b :  False\n",
            "c :  True\n",
            "d :  False\n",
            "\n",
            "\n",
            "AND\n",
            "a and c:  True\n",
            "a and b:  False\n",
            "b and d:  False\n",
            "\n",
            "\n",
            "OR\n",
            "a or c:  True\n",
            "a or b:  True\n",
            "b or d:  False\n",
            "\n",
            "\n",
            "NOT\n",
            "not a:  False\n",
            "not b:  True\n"
          ],
          "name": "stdout"
        }
      ]
    },
    {
      "cell_type": "markdown",
      "metadata": {
        "id": "Yp_g_sPMsrLH"
      },
      "source": [
        "<h2>Soal 3: If-Else Statement</h2>\n",
        "\n",
        "Lengkapi kode untuk menghasilkan suatu output yang di harapkan\n",
        "\n",
        "- Bualah sebuah if-else statement yang dimana akan mem-print 'Besar' jika ruangan adalah 'Kamar' dan ukuran lebih dari 12, kemudian mem-print 'Sedang' jika ruangan adalah 'Kamar' dan ukuran lebih dari 6 dan memprint 'Kecil' jika ruangan adalah 'Kamar' dan ukuran ruangan lebih kecil dan sama dengan 6."
      ]
    },
    {
      "cell_type": "code",
      "metadata": {
        "id": "euRiRNupsrLK",
        "colab": {
          "base_uri": "https://localhost:8080/",
          "height": 34
        },
        "outputId": "8cf0d84d-4831-40cb-a029-529107e3df3a"
      },
      "source": [
        "# Inisisasi Paramater\n",
        "ruangan = 'Kamar'\n",
        "size = 20\n",
        "\n",
        "if ruangan == 'Kamar': # Mengecek apakah ruangan yang dimaksud adalah kamar, jika benar masuk ke logika pengecekan ukuran\n",
        "  if size > 12 : # Jika ukurannyanya lebih besar dari 12, maka dikategorikan \"besar\"\n",
        "    print('Besar') \n",
        "  elif size > 6 : # Jika ukurannya lebih besar dari 6, tetapi tidak melewati 12, maka dikategorikan \"sedang\"\n",
        "                  # Disini tidak perlu menggunakan rentang (a < x < b), karena data yang masuk ke statement if ini,\n",
        "                  # dipastikan tidak lolos dari statement if sebelumnya.\n",
        "    print('Sedang')\n",
        "  elif size > 0: # Jika ukurannya lebih kecil atau sama dengan 6, maka dikategorikan \"kecil\"\n",
        "    print('Kecil')\n",
        "  else:\n",
        "    print('Ukuran Invalid') #Jika input ukuran ruangan tidak valid atau tidak real (meliputi 0 dan bilangan negatif)\n",
        "else:\n",
        "  print('Ruangan tidak diketahui') # Jika ruangan yang dimaksud bukan kamar, maka operasi pengkategorian ukuran tidak perlu dilaksanakan"
      ],
      "execution_count": null,
      "outputs": [
        {
          "output_type": "stream",
          "text": [
            "Besar\n"
          ],
          "name": "stdout"
        }
      ]
    },
    {
      "cell_type": "markdown",
      "metadata": {
        "id": "IcoJXJT1srLW"
      },
      "source": [
        "<h2>Soal 4: Comparison Operator dengan fungsi</h2>\n",
        "\n",
        "Buatlah sebuah fungsi yang menerima satu argument bertipe data numeric dan menghasilkan sebuah return sebagai berikut :\n",
        "- menghasilkan return 'Aneh' jika nilai dari argument tersebut adalah bilangan ganjil\n",
        "- menghasilkan return 'Tidak Aneh' jika nilai dari argument tersebut adalah bilangan genap dan diantara nilai 2 sampai 5 (2 dan 5 termasuk)\n",
        "- menghasilkan return 'Aneh' jika nilai dari argument tersebut adalah bilangan genap dan diantara nilai 6 sampai 20 (6 dan 20 termasuk)\n",
        "- menghasilkan return 'Tidak Aneh' jika nilai dari argument tersebut adalah bilangan genap dan lebih besari dari 20"
      ]
    },
    {
      "cell_type": "code",
      "metadata": {
        "id": "g8F_qfEKsrLZ",
        "colab": {
          "base_uri": "https://localhost:8080/",
          "height": 51
        },
        "outputId": "2a61ea58-d736-4f53-be07-e9b68d571d6f"
      },
      "source": [
        "# Buat fungsi\n",
        "# Meng-input data numerik \n",
        "inputAngka = input(\"Masukkan bilangan: \")\n",
        "\n",
        "# Dilakukan konversi, karena fungsi input akan menyimpan data dalam bentuk string. \n",
        "# Karena tidak dispesifikan tipe bilangannya, maka dikonversikan ke bentuk float.\n",
        "konversiAngka = float(inputAngka) \n",
        "\n",
        "# Kemudian dilakukan pembulatan agar bisa mengoperasikan fungsi ganjil-genap menggunakan fungsi integer / int()\n",
        "# Catatan : Pembulatan  yang digunakan adalah pembulatan kebawah\n",
        "pembulatanAngka = int(konversiAngka)\n",
        "\n",
        "# Definisi fungsi\n",
        "def fungsi(num):\n",
        "  if num % 2 == 0 : # Definisi bilangan genap menggunakan operasi modulus\n",
        "    if num > 20 : # Jika variabel num bernilai lebih dari 20 dan merupakan bilangan genap, maka akan memprint \"Tidak Aneh\"\n",
        "      print('Tidak Aneh')\n",
        "    elif num in range(6,21): # Jika variabel num bernilai lebih pada rentang 6 <= num <= 20 dan merupakan bilangan genap, maka akan memprint \"Aneh\"\n",
        "      print('Aneh')\n",
        "    elif num in range(2,6):  # Jika variabel num bernilai lebih pada rentang 2 <= num <= 5 dan merupakan bilangan genap, maka akan memprint \"Tidak Aneh\"\n",
        "      print('Tidak Aneh')\n",
        "    else:    # Jika variabel num bernilai 0 atau negatif genap, maka akan memprint \"null\", karena tidak ada pada ketentuan\n",
        "      print('null')         \n",
        "  else:\n",
        "    print('Aneh') # Jika variabel num bernilai ganjil, maka akan memprint \"Aneh\"\n",
        "\n",
        "fungsi(pembulatanAngka) # Pemanggilan fungsi untuk variabel pembulatan angka\n",
        "\n",
        "# Catatan :\n",
        "# range(i,j) akan menghasilkan sequence [i, i+1, i+2, ..., j-1]"
      ],
      "execution_count": null,
      "outputs": [
        {
          "output_type": "stream",
          "text": [
            "Masukkan bilangan: 20\n",
            "Aneh\n"
          ],
          "name": "stdout"
        }
      ]
    },
    {
      "cell_type": "markdown",
      "metadata": {
        "id": "gf0D64xOsrLl"
      },
      "source": [
        "<h2>Soal 5: While Loop dan For Loop</h2>\n",
        "\n",
        "- Apa perbedaan while loop dan for loop?\n",
        "- Berikan contoh sederhana cara menggunakan while loop dan for loop"
      ]
    },
    {
      "cell_type": "code",
      "metadata": {
        "id": "l7KIgpjHsrLo",
        "colab": {
          "base_uri": "https://localhost:8080/",
          "height": 221
        },
        "outputId": "210ddbdf-2f8d-4819-9f02-069408f90c87"
      },
      "source": [
        "# WHILE LOOP\n",
        "# Loop tipe ini akan mengeksekusi barisan code (statement), selama masih memenu-\n",
        "# hi kondisi atau logika kondisinya bernilai true. While Loop dapat didefenisik-\n",
        "# an berdasarkan pseducode berikut :\n",
        "#   while condition :\n",
        "#     statement\n",
        "# Contoh :\n",
        "print('Hasil menggunakan while loop: ')\n",
        "i=0\n",
        "while i<4 :\n",
        "  print(i)\n",
        "  i = i + 1\n",
        "# Pada code diatas, kita menginisasi i = 0. Lalu menjalankan iterasi, dimana ak-\n",
        "# an memprint nilai i, dan melakukan update variabel i dengan menambahkannya de-\n",
        "# nilai 1, kemudian kembali ke statement awal, sampai logika kondisinya bernilai\n",
        "# false (i tidak lebih kecil dari 4). \n",
        "# Output seharusnya memberikan nilai 0,1,2,3\n",
        "\n",
        "################################################################################\n",
        "print('\\n')\n",
        "\n",
        "# FOR LOOP\n",
        "# for loop pada python akan melakukan iterasi berdasarkan sebuah sequence atau a\n",
        "# -rray (bisa berupa tuple, list, dll). For Loop dapat didefenisikan berdasarka-\n",
        "# n pseudocode berikut :\n",
        "# for var in array :\n",
        "#   statement\n",
        "# Contoh :\n",
        "print('Hasil menggunakan for loop: ')\n",
        "for x in range(0,4):\n",
        "  print(x)\n",
        "# Pada code diatas, kita mendefenisikan for loop, dimana i akan mendefenisikan i\n",
        "# -si sequence dari range(0,4) atau [0,1,2,3] secara bertahap. For loop akan men\n",
        "# -jalankan statement berupa mem-print variabel i sesuai pada sequence yang dide\n",
        "# -fenisikan.\n",
        "# Output seharusnya memberikan nilai 0,1,2,3"
      ],
      "execution_count": null,
      "outputs": [
        {
          "output_type": "stream",
          "text": [
            "Hasil menggunakan while loop: \n",
            "0\n",
            "1\n",
            "2\n",
            "3\n",
            "\n",
            "\n",
            "Hasil menggunakan for loop: \n",
            "0\n",
            "1\n",
            "2\n",
            "3\n"
          ],
          "name": "stdout"
        }
      ]
    },
    {
      "cell_type": "markdown",
      "metadata": {
        "id": "fZQpBGCgsrLz"
      },
      "source": [
        "<h2>Soal 6: While Loop</h2>\n",
        "    \n",
        "Buatlah sebuah code while loop sebagai berikut :\n",
        "- Buatlah suatu fungsi yang merima satu input nilai numeric\n",
        "- Dalam fungsi, Buat sebuah while-loop dengan melakukan comparasi terhadap inputan tersebut, dimana looping/iterasi terus berjalan apabila nilai inputan tidak sama dengan 0\n",
        "- Dalam setiap iterasi update nilai variable inputan itu, jika input lebih dari 0, maka kurangi variabel tersebut sebesar 1, selain itu tambahkan 1\n",
        "- print nilai variable input dalam setiap awal iterasi"
      ]
    },
    {
      "cell_type": "code",
      "metadata": {
        "id": "yOiqjrU2srL1",
        "colab": {
          "base_uri": "https://localhost:8080/",
          "height": 187
        },
        "outputId": "bbf6ce23-8ac9-426d-a59c-1d1cf781d538"
      },
      "source": [
        "# Inisiasi input nilai\n",
        "a = 10\n",
        "\n",
        "# Defenisi fungsi while loop\n",
        "def fungsi_while(num) :\n",
        "\n",
        "  # While loop apabila variabel num bernilai positif. Loop ini akan memprint va-\n",
        "  # riabel num dan menguranginya dengan 1 untuk setiap iterasi, selama nilai da-\n",
        "  # ri variabel num tidak sama dengan 0\n",
        "  while num > 0 :\n",
        "    print(num)\n",
        "    num = num - 1\n",
        "\n",
        "  # While loop apabila variabel num bernilai negatif. Loop ini akan memprint va-\n",
        "  # riabel num dan menambahkan dengan 1 untuk setiap iterasi, selama nilai dari \n",
        "  # variabel num tidak sama dengan 0\n",
        "  while num < 0 :\n",
        "    print(num)\n",
        "    num = num + 1\n",
        "\n",
        "  # Apabila a bernilai 0, maka tidak ada loop yang dijalankan (tidak menghasilk-\n",
        "  # an output)\n",
        "\n",
        "fungsi_while(a) # Pemanggilan fungsi_while untuk variabel a"
      ],
      "execution_count": null,
      "outputs": [
        {
          "output_type": "stream",
          "text": [
            "10\n",
            "9\n",
            "8\n",
            "7\n",
            "6\n",
            "5\n",
            "4\n",
            "3\n",
            "2\n",
            "1\n"
          ],
          "name": "stdout"
        }
      ]
    },
    {
      "cell_type": "markdown",
      "metadata": {
        "id": "lKzngRrlsrMD"
      },
      "source": [
        "Expected Output:\n",
        "\n",
        "10\n",
        "\n",
        "9\n",
        "\n",
        "8\n",
        "\n",
        "7\n",
        "\n",
        "6\n",
        "\n",
        "5\n",
        "\n",
        "4\n",
        "\n",
        "3\n",
        "\n",
        "2\n",
        "\n",
        "1"
      ]
    },
    {
      "cell_type": "markdown",
      "metadata": {
        "id": "IWg3Z_zZsrMG"
      },
      "source": [
        "<h2>Soal 7: For Loop</h2>\n",
        "    \n",
        "Lengkapi kode untuk menghasilkan suatu output yang di harapkan:\n",
        "\n",
        "- Buatlah sebuah loop dengan mengiterasi sebuah objek list kemudian di kalikan dengan index dari list tersebut dan print hasilnya"
      ]
    },
    {
      "cell_type": "code",
      "metadata": {
        "id": "_Jl5i7WKsrMI",
        "colab": {
          "base_uri": "https://localhost:8080/",
          "height": 102
        },
        "outputId": "a126c135-0cc9-4a31-ba96-be301de6c2f9"
      },
      "source": [
        "obj_list= [1, 16, 11, 10, 5]\n",
        "\n",
        "# lengkapi code di bawah\n",
        "for i in obj_list:\n",
        "    print ( i * obj_list.index(i) )\n",
        "\n",
        "# i akan mendefenisikan sequel pada list yang sedang dioperasikan.\n",
        "# Secara bertahap akan menghasilkan nilai 1, 16, 11, 10, 5.\n",
        "\n",
        "# obj_list.index(i) akan mendefenisikan index dari sequel pada list yang sedang dioperasikan.\n",
        "# Secara bertahap akan menghasilkan nilai 0, 1, 2, 3, 4."
      ],
      "execution_count": null,
      "outputs": [
        {
          "output_type": "stream",
          "text": [
            "0\n",
            "16\n",
            "22\n",
            "30\n",
            "20\n"
          ],
          "name": "stdout"
        }
      ]
    },
    {
      "cell_type": "markdown",
      "metadata": {
        "id": "OGawROjnsrMU"
      },
      "source": [
        "Expected Output:\n",
        "\n",
        "0\n",
        "\n",
        "16\n",
        "\n",
        "22\n",
        "\n",
        "30\n",
        "\n",
        "20\n"
      ]
    }
  ]
}