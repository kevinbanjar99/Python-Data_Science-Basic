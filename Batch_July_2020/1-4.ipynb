{
  "nbformat": 4,
  "nbformat_minor": 0,
  "metadata": {
    "kernelspec": {
      "display_name": "Python 3",
      "language": "python",
      "name": "python3"
    },
    "language_info": {
      "codemirror_mode": {
        "name": "ipython",
        "version": 3
      },
      "file_extension": ".py",
      "mimetype": "text/x-python",
      "name": "python",
      "nbconvert_exporter": "python",
      "pygments_lexer": "ipython3",
      "version": "3.7.7"
    },
    "colab": {
      "name": "Tugas Hari 4_Kevin Natio Banjarnahor.ipynb",
      "provenance": [],
      "collapsed_sections": []
    }
  },
  "cells": [
    {
      "cell_type": "markdown",
      "metadata": {
        "id": "1O3NGQSKzf_A"
      },
      "source": [
        "# List"
      ]
    },
    {
      "cell_type": "markdown",
      "metadata": {
        "id": "m2VWq6g9szIv"
      },
      "source": [
        "<h2>Soal 1: Sifat List</h2>\n",
        "\n",
        "Jawab Pertanyaan di bawah ini:\n",
        "\n",
        "Jenis data apa saja yang bisa ada di dalam List?"
      ]
    },
    {
      "cell_type": "markdown",
      "metadata": {
        "id": "oUTuv3Me3izt"
      },
      "source": [
        "JAWAB :\n",
        "\n",
        "1. Integer\n",
        "\n",
        "2. Float\n",
        "\n",
        "3. Double\n",
        "\n",
        "4. String\n",
        "\n",
        "5. Boolean, dsb."
      ]
    },
    {
      "cell_type": "markdown",
      "metadata": {
        "id": "XD1fT351szI2"
      },
      "source": [
        "<h2>Soal 2: Akses List</h2>\n",
        "\n",
        "Lengkapi kode untuk menghasilkan suatu output yang di harapkan"
      ]
    },
    {
      "cell_type": "code",
      "metadata": {
        "id": "qXKteY88szI5",
        "colab": {
          "base_uri": "https://localhost:8080/",
          "height": 34
        },
        "outputId": "2419efc6-73a8-4fd5-c339-8b73362cc74b"
      },
      "source": [
        "a = ['1', '13b', 'aa1', 1.32, 22.1, 2.34]\n",
        "# slicing list\n",
        "# Menggunakan \"list[start,stop]\"\n",
        "# List akan diakses mulai dari \"start\" dan akan berhenti sebelum \"stop\" (index dimulai dari 0) \n",
        "a[1:5]"
      ],
      "execution_count": null,
      "outputs": [
        {
          "output_type": "execute_result",
          "data": {
            "text/plain": [
              "['13b', 'aa1', 1.32, 22.1]"
            ]
          },
          "metadata": {
            "tags": []
          },
          "execution_count": 34
        }
      ]
    },
    {
      "cell_type": "markdown",
      "metadata": {
        "id": "4Qp2wjmOszJJ"
      },
      "source": [
        "Expected Output :\n",
        "\n",
        "[ '13b', 'aa1', 1.32, 22.1 ]"
      ]
    },
    {
      "cell_type": "markdown",
      "metadata": {
        "id": "qf7YmOZzszJL"
      },
      "source": [
        "<h2>Soal 3: Nested List</h2>\n",
        "\n",
        "Lengkapi kode untuk menghasilkan suatu output yang di harapkan"
      ]
    },
    {
      "cell_type": "code",
      "metadata": {
        "id": "JCac4gPfszJO",
        "colab": {
          "base_uri": "https://localhost:8080/",
          "height": 34
        },
        "outputId": "f22ac317-246a-45b4-eec9-54d712cfa076"
      },
      "source": [
        "a = [1.32, 22.1, 2.34]\n",
        "b = ['1', '13b', 'aa1']\n",
        "c = [3, 40, 100]\n",
        "# combine list\n",
        "# Nested List dibentuk dengan membuat sebuah list yang diisi dengan beberapa sub-list, yang dipisahkan dengan tanda koma\n",
        "[a,c,b]"
      ],
      "execution_count": null,
      "outputs": [
        {
          "output_type": "execute_result",
          "data": {
            "text/plain": [
              "[[1.32, 22.1, 2.34], [3, 40, 100], ['1', '13b', 'aa1']]"
            ]
          },
          "metadata": {
            "tags": []
          },
          "execution_count": 35
        }
      ]
    },
    {
      "cell_type": "markdown",
      "metadata": {
        "id": "mNzKeR8hszJk"
      },
      "source": [
        "Expected Output :\n",
        "\n",
        "[ [1.32, 22.1, 2.34], [3, 40, 100], ['1', '13b', 'aa1'] ]"
      ]
    },
    {
      "cell_type": "markdown",
      "metadata": {
        "id": "zKS3e_kTszJm"
      },
      "source": [
        "<h2>Soal 4: Akses Nested List</h2>\n",
        "\n",
        "Lengkapi kode untuk menghasilkan suatu output yang di harapkan"
      ]
    },
    {
      "cell_type": "code",
      "metadata": {
        "id": "IhFh_WCzszJo",
        "colab": {
          "base_uri": "https://localhost:8080/",
          "height": 34
        },
        "outputId": "5c2ad756-284a-4091-c6b3-572d0ca0d3a5"
      },
      "source": [
        "a = [\n",
        "    [5, 9, 8],\n",
        "    [0, 0, 6]\n",
        "    ]\n",
        "# subsetting list\n",
        "# Nested List diakses dengan menggunakan \"list[*sequence list*][*sequence sublist*]\n",
        "a[1][1:3]\n"
      ],
      "execution_count": null,
      "outputs": [
        {
          "output_type": "execute_result",
          "data": {
            "text/plain": [
              "[0, 6]"
            ]
          },
          "metadata": {
            "tags": []
          },
          "execution_count": 36
        }
      ]
    },
    {
      "cell_type": "markdown",
      "metadata": {
        "id": "mk5EMa6pszJ2"
      },
      "source": [
        "Expected Output :\n",
        "\n",
        "\n",
        "[0, 6]"
      ]
    },
    {
      "cell_type": "markdown",
      "metadata": {
        "id": "sTVLtrqCszJ4"
      },
      "source": [
        "<h2>Soal 5: Built in Function List</h2>\n",
        "\n",
        "Lengkapi kode untuk menghasilkan suatu output yang di harapkan"
      ]
    },
    {
      "cell_type": "code",
      "metadata": {
        "id": "oCz3O7gAszJ6",
        "colab": {
          "base_uri": "https://localhost:8080/",
          "height": 51
        },
        "outputId": "80f6bfd1-222c-49b0-99cb-c17a66b32b52"
      },
      "source": [
        "p = [0, 5, 2, 10, 4, 9]\n",
        "# ordered list\n",
        "# Menggunakan \"sorted(iterable, reverse=*boolean*)\n",
        "# iterable merupakan list, sedangkan reverse akan mengurutkan dari terbesar apabila bernilai \"true\", dan sebaliknya.\n",
        "print(sorted(p, reverse=False))\n",
        "# get max value of list\n",
        "# Menggunakan \"max(iterable)\"\n",
        "print(max(p))"
      ],
      "execution_count": null,
      "outputs": [
        {
          "output_type": "stream",
          "text": [
            "[0, 2, 4, 5, 9, 10]\n",
            "10\n"
          ],
          "name": "stdout"
        }
      ]
    },
    {
      "cell_type": "markdown",
      "metadata": {
        "id": "Nejk71aWszKE"
      },
      "source": [
        "Expected Output :\n",
        "\n",
        "[0, 2, 4, 5, 9, 10]\n",
        "\n",
        "10"
      ]
    },
    {
      "cell_type": "markdown",
      "metadata": {
        "id": "OEU53cA_szKG"
      },
      "source": [
        "<h2>Soal 6: List Operation</h2>\n",
        "\n",
        "Lengkapi kode untuk menghasilkan suatu output yang di harapkan"
      ]
    },
    {
      "cell_type": "code",
      "metadata": {
        "id": "N-dxC1qYszKJ",
        "colab": {
          "base_uri": "https://localhost:8080/",
          "height": 34
        },
        "outputId": "118f933b-6339-454b-cf31-9bcac71d2a34"
      },
      "source": [
        "a = [1, 3, 5]\n",
        "b = [5, 1, 3]\n",
        "# combine list\n",
        "# Menggabungkan beberapa list, dapat dilakukan dengan menggunakan operator tambah (+)\n",
        "b+a"
      ],
      "execution_count": null,
      "outputs": [
        {
          "output_type": "execute_result",
          "data": {
            "text/plain": [
              "[5, 1, 3, 1, 3, 5]"
            ]
          },
          "metadata": {
            "tags": []
          },
          "execution_count": 38
        }
      ]
    },
    {
      "cell_type": "markdown",
      "metadata": {
        "id": "g0xy9HZrszKV"
      },
      "source": [
        "Expected Output :\n",
        "\n",
        "[5, 1, 3, 1, 3, 5]"
      ]
    },
    {
      "cell_type": "markdown",
      "metadata": {
        "id": "cggENDN4szKX"
      },
      "source": [
        "<h2>Soal 7: List Manipulation</h2>\n",
        "\n",
        "Lengkapi kode untuk menghasilkan suatu output yang di harapkan"
      ]
    },
    {
      "cell_type": "code",
      "metadata": {
        "id": "GOZQAPg9szKa",
        "colab": {
          "base_uri": "https://localhost:8080/",
          "height": 34
        },
        "outputId": "b8d34462-cf42-4d11-f07c-7674af0ee34b"
      },
      "source": [
        "a = [\n",
        "    [5, 9, 8],\n",
        "    [0, 0, 6]\n",
        "    ]\n",
        "# Mengganti list value dilakukan dengan mendefenisikan nilai baru untuk list yang bersangkutan sesuai dengan indexnya\n",
        "# change list value\n",
        "a[0][2] = 10 \n",
        "# change list value\n",
        "a[1][0] = 11\n",
        "print(a)"
      ],
      "execution_count": null,
      "outputs": [
        {
          "output_type": "stream",
          "text": [
            "[[5, 9, 10], [11, 0, 6]]\n"
          ],
          "name": "stdout"
        }
      ]
    },
    {
      "cell_type": "markdown",
      "metadata": {
        "id": "iYHFRJW7szKl"
      },
      "source": [
        "Expected Output :\n",
        "\n",
        "[ [5, 9, 10], [11, 0, 6] ]"
      ]
    },
    {
      "cell_type": "markdown",
      "metadata": {
        "id": "dSTDqY9iszKn"
      },
      "source": [
        "<h2>Soal 8: Delete Element List</h2>\n",
        "\n",
        "Lengkapi kode untuk menghasilkan suatu output yang di harapkan"
      ]
    },
    {
      "cell_type": "code",
      "metadata": {
        "id": "hTQNLWiUszKq",
        "colab": {
          "base_uri": "https://localhost:8080/",
          "height": 34
        },
        "outputId": "dd8a41c8-5931-4c84-c98c-e3c309d707fe"
      },
      "source": [
        "areas = [\"hallway\", 11.25, \"kitchen\", 18.0,\n",
        "        \"chill zone\", 20.0, \"bedroom\", 10.75,\n",
        "         \"bathroom\", 10.50, \"poolhouse\", 24.5,\n",
        "         \"garage\", 15.45]\n",
        "\n",
        "# Hilangkan elemen yang bernilai \"bathroom\" dan 10.50 dalam satu statement code\n",
        "\n",
        "# Untuk permasalahan ini, elemen list dihapus menggunakan \"del list[*start*:*stop*]\" \n",
        "del areas[8:10]\n",
        "print(areas)"
      ],
      "execution_count": null,
      "outputs": [
        {
          "output_type": "stream",
          "text": [
            "['hallway', 11.25, 'kitchen', 18.0, 'chill zone', 20.0, 'bedroom', 10.75, 'poolhouse', 24.5, 'garage', 15.45]\n"
          ],
          "name": "stdout"
        }
      ]
    },
    {
      "cell_type": "markdown",
      "metadata": {
        "id": "ZeF61jc_szK1"
      },
      "source": [
        "Expected Output:\n",
        "\n",
        "['hallway',\n",
        " 11.25,\n",
        " 'kitchen',\n",
        " 18.0,\n",
        " 'chill zone',\n",
        " 20.0,\n",
        " 'bedroom',\n",
        " 10.75,\n",
        " 'poolhouse',\n",
        " 24.5,\n",
        " 'garage',\n",
        " 15.45]\n",
        "\n"
      ]
    },
    {
      "cell_type": "markdown",
      "metadata": {
        "id": "onKmJ3XqY5FN"
      },
      "source": [
        "## Soal 9: List Comprehension\n",
        "\n",
        "Gunakan metode **list comprehension** untuk mencari anggota dari S yang habis di bagi 2, kemudian assign hasilnya dalam bentuk list ke dalam variabel T."
      ]
    },
    {
      "cell_type": "code",
      "metadata": {
        "id": "xs3OWJP_Z5rb",
        "colab": {
          "base_uri": "https://localhost:8080/",
          "height": 34
        },
        "outputId": "909510c2-d333-488e-d21a-ef921f1e1c61"
      },
      "source": [
        "S = [0, 1, 4, 9, 16, 25, 36, 49, 64, 81]\n",
        "\n",
        "T = [] # Mendeklarasikan variabel \"T\" sebagai empty list\n",
        "for i in S :\n",
        "  if i % 2 == 0 :\n",
        "    T.append(i)   # Menggunakan method \"list.append(element)\". Dengan element-nya adalah variabel \"i\".\n",
        "                  # i yang memenuhi syarat (habis dibagi 2), akan dimasukkan ke list \"T\" (akhir dari list).\n",
        "print(T)"
      ],
      "execution_count": null,
      "outputs": [
        {
          "output_type": "stream",
          "text": [
            "[0, 4, 16, 36, 64]\n"
          ],
          "name": "stdout"
        }
      ]
    },
    {
      "cell_type": "markdown",
      "metadata": {
        "id": "Jjn-28CDaShb"
      },
      "source": [
        "Expected Output:\n",
        "\n",
        "[0, 4, 16, 36, 64]"
      ]
    },
    {
      "cell_type": "markdown",
      "metadata": {
        "id": "gdBwjXz8zoMi"
      },
      "source": [
        "# Dictionary"
      ]
    },
    {
      "cell_type": "markdown",
      "metadata": {
        "id": "fyoYEJKw6qoo"
      },
      "source": [
        "<h2>Soal 10: Akses Dictionary</h2>\n",
        "\n",
        "Lengkapi kode untuk menghasilkan suatu output yang di harapkan"
      ]
    },
    {
      "cell_type": "code",
      "metadata": {
        "id": "rs7ByDTw6qop",
        "colab": {
          "base_uri": "https://localhost:8080/",
          "height": 51
        },
        "outputId": "31121604-06fa-414a-f2ba-ac8ee1f8a199"
      },
      "source": [
        "europe = {'spain':'madrid', 'france':'paris', 'germany':'berlin', 'norway':'oslo' }\n",
        "\n",
        "# print semua key yang ada di objek europe\n",
        "# Menggunakan method \"dictionary.keys()\"\n",
        "print(europe.keys()) \n",
        "# print nilai dari key franche\n",
        "# Menggunakan \"dictionary[key]\"\n",
        "print(europe['france'])"
      ],
      "execution_count": null,
      "outputs": [
        {
          "output_type": "stream",
          "text": [
            "dict_keys(['spain', 'france', 'germany', 'norway'])\n",
            "paris\n"
          ],
          "name": "stdout"
        }
      ]
    },
    {
      "cell_type": "markdown",
      "metadata": {
        "id": "LF8QRq8E6qov"
      },
      "source": [
        "Expected Output:\n",
        "\n",
        "dict_keys(['spain', 'france', 'germany', 'norway'])\n",
        "\n",
        "paris"
      ]
    },
    {
      "cell_type": "markdown",
      "metadata": {
        "id": "qjMKbE9D6qow"
      },
      "source": [
        "<h2>Soal 11: Menambahkan key-value baru ke Dictionary</h2>\n",
        "\n",
        "Lengkapi kode untuk menghasilkan suatu output yang di harapkan"
      ]
    },
    {
      "cell_type": "code",
      "metadata": {
        "id": "rU7Z5dzC6qox",
        "colab": {
          "base_uri": "https://localhost:8080/",
          "height": 34
        },
        "outputId": "c4338de0-8a49-4952-fad2-f93d8a960e57"
      },
      "source": [
        "europe = {'spain':'madrid', 'france':'paris', 'germany':'berlin', 'norway':'oslo' }\n",
        "\n",
        "# tambahkan key itali ke objek dictionary dengan value roma\n",
        "\n",
        "# Menggunakan \" dictionary [*new_key*] = *new value* \"\n",
        "europe[\"itali\"] = \"roma\"\n",
        "\n",
        "# cek apakah itali ada di dalam objek dictionary\n",
        "\n",
        "def keyCheck(key): # definisi fungsi untuk mengecek ketersediaan key\"\n",
        "  if key in europe :\n",
        "    return True\n",
        "  else :\n",
        "    return False\n",
        " \n",
        "print(keyCheck('itali')) # Pemanggilan fungsi keyCheck"
      ],
      "execution_count": null,
      "outputs": [
        {
          "output_type": "stream",
          "text": [
            "True\n"
          ],
          "name": "stdout"
        }
      ]
    },
    {
      "cell_type": "markdown",
      "metadata": {
        "id": "ur84PUyz6qo1"
      },
      "source": [
        "Expected Output:\n",
        "    \n",
        "True"
      ]
    },
    {
      "cell_type": "markdown",
      "metadata": {
        "id": "bgilSLKl6qo2"
      },
      "source": [
        "<h2>Soal 12: Update dan Remove Dictinary</h2>\n",
        "    \n",
        "Lengkapi kode untuk menghasilkan suatu output yang di harapkan"
      ]
    },
    {
      "cell_type": "code",
      "metadata": {
        "id": "QO9EowXH6qo2",
        "colab": {
          "base_uri": "https://localhost:8080/",
          "height": 34
        },
        "outputId": "760fa1a2-3525-4756-f91f-6c9396f11bcb"
      },
      "source": [
        "europe = {'spain':'madrid', 'france':'paris', 'germany':'bonn',\n",
        "          'norway':'oslo', 'italy':'rome', 'poland':'warsaw',\n",
        "          'australia':'vienna' }\n",
        "\n",
        "# update nilai ibukota german ke berlin\n",
        "\n",
        "# Menggunakan method \"dictionary.update({key:value})\"\n",
        "# Update dapat dilakukan dengan cara memilih target *key* dan memasukkan *value* yang baru, dan sebaliknya.\n",
        "# Apabila key dan value, masing-masing merupakan item yang baru, maka akan menambahkan entry baru pada dictionary\n",
        "\n",
        "europe.update({'germany': 'berlin'})\n",
        "\n",
        "# remove australia dari europa\n",
        "\n",
        "# Menggunakan \"del dictionary[key]\"\n",
        "del europe['australia']\n",
        "\n",
        "print(europe)"
      ],
      "execution_count": null,
      "outputs": [
        {
          "output_type": "stream",
          "text": [
            "{'spain': 'madrid', 'france': 'paris', 'germany': 'berlin', 'norway': 'oslo', 'italy': 'rome', 'poland': 'warsaw'}\n"
          ],
          "name": "stdout"
        }
      ]
    },
    {
      "cell_type": "markdown",
      "metadata": {
        "id": "VDpHuoXS6qo6"
      },
      "source": [
        "Expected Output:\n",
        "\n",
        "{'spain': 'madrid', 'france': 'paris', 'germany': 'berlin', 'norway': 'oslo', 'italy': 'rome', 'poland': 'warsaw'}"
      ]
    },
    {
      "cell_type": "markdown",
      "metadata": {
        "id": "FNWyId1S6qo7"
      },
      "source": [
        "<h2>Soal 13: Nested Dictionary</h2>\n",
        "    \n",
        "Lengkapi kode untuk menghasilkan suatu output yang di harapkan"
      ]
    },
    {
      "cell_type": "code",
      "metadata": {
        "id": "OAkJDiGd6qo7",
        "colab": {
          "base_uri": "https://localhost:8080/",
          "height": 71
        },
        "outputId": "de417aa8-9184-4303-fd7b-36e58c1ab334"
      },
      "source": [
        "country = { \n",
        "           'spain': { 'capital':'madrid', 'population':46.77 },\n",
        "           'france': { 'capital':'paris', 'population':66.03 },\n",
        "           'germany': { 'capital':'berlin', 'population':80.62 },\n",
        "           'norway': { 'capital':'oslo', 'population':5.084 } \n",
        "         }\n",
        "\n",
        "# berapa populasi dari kota german?\n",
        "\n",
        "# Menggunakan \"dictionary[key][sub-key]\"\n",
        "print(country['germany']['population'])\n",
        "\n",
        "# update data baru, yaitu negara indonesia dengan capital jakarta dan populasi 250\n",
        "\n",
        "# Menggunakan \"dictionary[key] = { sub-item_1, ..., sub-item_n}\n",
        "country[\"indonesia\"] = { 'capital':'jakarta', 'population':250 }\n",
        "print(country)"
      ],
      "execution_count": null,
      "outputs": [
        {
          "output_type": "stream",
          "text": [
            "80.62\n",
            "{'spain': {'capital': 'madrid', 'population': 46.77}, 'france': {'capital': 'paris', 'population': 66.03}, 'germany': {'capital': 'berlin', 'population': 80.62}, 'norway': {'capital': 'oslo', 'population': 5.084}, 'indonesia': {'capital': 'jakarta', 'population': 250}}\n"
          ],
          "name": "stdout"
        }
      ]
    },
    {
      "cell_type": "code",
      "metadata": {
        "id": "yDMiXGxJCpK-"
      },
      "source": [
        ""
      ],
      "execution_count": null,
      "outputs": []
    },
    {
      "cell_type": "markdown",
      "metadata": {
        "id": "fKT0REFD6qo_"
      },
      "source": [
        "Expected Output:\n",
        "\n",
        "80.62\n",
        "\n",
        "{'spain': {'capital': 'madrid', 'population': 46.77}, 'france': {'capital': 'paris', 'population': 66.03}, 'germany': {'capital': 'berlin', 'population': 80.62}, 'norway': {'capital': 'oslo', 'population': 5.084}, 'indonesia': {'capital': 'jakarta', 'population': 250}}"
      ]
    },
    {
      "cell_type": "markdown",
      "metadata": {
        "id": "xefUN_T56qpA"
      },
      "source": [
        "<h2>Soal 14: Loop Dictionary</h2>\n",
        "    \n",
        "Lengkapi kode untuk menghasilkan suatu output yang di harapkan"
      ]
    },
    {
      "cell_type": "code",
      "metadata": {
        "id": "SkYQ0sD76qpA",
        "colab": {
          "base_uri": "https://localhost:8080/",
          "height": 102
        },
        "outputId": "f7dd0720-4b0e-428e-d0d0-c54a5b2e242e"
      },
      "source": [
        "country = { \n",
        "           'spain': { 'capital':'madrid', 'population':46.77 },\n",
        "           'france': { 'capital':'paris', 'population':66.03 },\n",
        "           'germany': { 'capital':'berlin', 'population':80.62 },\n",
        "           'norway': { 'capital':'oslo', 'population':5.084 },\n",
        "           'indonesia' : {'capital':'jakarta', 'population':250}\n",
        "         }\n",
        "\n",
        "for negara, ibuKota in country.items(): # variabel \"negara\" akan mengakses key dan varibel \"ibuKota\" akan mengakses value dari list \"country\"\n",
        "    print(' Ibukota ' + negara + ' adalah ' + ibuKota.get(\"capital\")) # dictonary.get(key) akan mengakses value dari key yang spesifik"
      ],
      "execution_count": null,
      "outputs": [
        {
          "output_type": "stream",
          "text": [
            " Ibukota spain adalah madrid\n",
            " Ibukota france adalah paris\n",
            " Ibukota germany adalah berlin\n",
            " Ibukota norway adalah oslo\n",
            " Ibukota indonesia adalah jakarta\n"
          ],
          "name": "stdout"
        }
      ]
    },
    {
      "cell_type": "markdown",
      "metadata": {
        "id": "YjX6xAtj6qpE"
      },
      "source": [
        "Expected Output:\n",
        "    \n",
        "Ibukota spain adalah madrid\n",
        "\n",
        "Ibukota france adalah paris\n",
        "\n",
        "Ibukota germany adalah berlin\n",
        "\n",
        "Ibukota norway adalah oslo\n",
        "\n",
        "Ibukota indonesia adalah jakarta"
      ]
    },
    {
      "cell_type": "markdown",
      "metadata": {
        "id": "emQoh4hG5cxH"
      },
      "source": [
        "<h2>Tugas Tambahan 1 : Remove Duplicate List</h2>"
      ]
    },
    {
      "cell_type": "code",
      "metadata": {
        "id": "AabmxhNZ6ULI",
        "colab": {
          "base_uri": "https://localhost:8080/",
          "height": 51
        },
        "outputId": "38cbebf6-2be6-458e-c743-c61b6046a362"
      },
      "source": [
        "# solusi tanpa menggunakan set\n",
        "def remove_duplicate(obj_list):\n",
        "    new_list = [] #deklarasi empty list\n",
        "    for i in obj_list :\n",
        "      if i not in new_list : # Jika i tidak terdapat pada new_list, maka akan ditambahkan ke dalam new_list. Sebaliknya, iterasi langsung dilanjutkan.\n",
        "          new_list.append(i)\n",
        "    return new_list\n",
        "\n",
        "# solusi dengan menggunakan set\n",
        "def remove_duplicate_with_set(obj_list):  \n",
        "    new_list = list(set(obj_list)) # Mengkonversi obj_list kedalam tipe set akan menghapus seluruh duplikasi dari list tersebut.\n",
        "                                   # Untuk menghasilkan new_list, set tersebut dikonversikan lagi kedalam tipe list.\n",
        "    return new_list\n",
        "\n",
        "obj_list = [1, 2, 4, 6, 2, 1, 4, 5, 7, 8, 6]\n",
        "print(remove_duplicate(obj_list))\n",
        "print(remove_duplicate_with_set(obj_list))\n",
        "\n",
        "\n",
        "# output :\n",
        "# [1, 2, 4, 6, 5, 7, 8]\n",
        "# [1, 2, 4, 5, 6, 7, 8]\n",
        "\n"
      ],
      "execution_count": null,
      "outputs": [
        {
          "output_type": "stream",
          "text": [
            "[1, 2, 4, 6, 5, 7, 8]\n",
            "[1, 2, 4, 5, 6, 7, 8]\n"
          ],
          "name": "stdout"
        }
      ]
    },
    {
      "cell_type": "markdown",
      "metadata": {
        "id": "NZVuBx1FvrHy"
      },
      "source": [
        "<h2>Tugas Tambahan 2 : Membuat ChatBot Sederhana</h2>"
      ]
    },
    {
      "cell_type": "code",
      "metadata": {
        "id": "utC9zAEqv8aq",
        "colab": {
          "base_uri": "https://localhost:8080/",
          "height": 85
        },
        "outputId": "1b323e89-d8b9-4c45-cef3-0496fab5efa8"
      },
      "source": [
        "# import library\n",
        "from datetime import datetime\n",
        "import random\n",
        "\n",
        "# ganti dengan sebuah nama\n",
        "nama  = \"GLaDOS\"\n",
        "# variabel tanggal\n",
        "tanggal = datetime.now().day\n",
        "# default variabel untuk pertanyaan tidak diketahui\n",
        "default = \"maaf, aku tidak tahu jawaban dari pertanyaanmu\"\n",
        "\n",
        "# Membuat objek dictionary berisi berbagai opsi jawaban\n",
        "\n",
        "# list jawaban untuk pertanyaan tentang nama\n",
        "jawaban_nama = [\n",
        "      \"nama saya  {0}\".format(nama),\n",
        "      \"orang-orang memanggil saya {0}\".format(nama),\n",
        "      \"panggil saja saya {0}\".format(nama)\n",
        "   ]\n",
        "\n",
        "# list jawaban untuk pertanyaan tentang tanggal\n",
        "jawaban_tanggal = [\n",
        "      \"hari ini tanggal {0}\".format(tanggal),\n",
        "      \"ya ampun masa tidak tahu, hari ini tanggal {0}\".format(tanggal)\n",
        "    ]\n",
        "\n",
        "# opsi pertanyaan yang bisa dijawab\n",
        "pertanyaan = {\n",
        "  \"nama kamu siapa?\": jawaban_nama,\n",
        "  \"kamu siapa?\" : jawaban_nama,\n",
        "  \"tanggal berapa hari ini?\": jawaban_tanggal,\n",
        "  \"hari ini tanggal berapa?\" : jawaban_tanggal,\n",
        "  \"default\": default\n",
        "}\n",
        "\n",
        "# list jawaban untuk sebuah argument selain pertanyaan\n",
        "statement =  [\n",
        "                  'ceritakan lebih banyak!',\n",
        "                  'kenapa kamu berpikir begitu?',\n",
        "                  'sudah berapa lama kamu merasa seperti ini?',\n",
        "                  'Itu sangat menarik!',\n",
        "                  'oh wow!',\n",
        "                  ':)'\n",
        "              ]\n",
        "\n",
        "# respon keseluruhan\n",
        "responses = {\n",
        "    'pertanyaan' : pertanyaan,\n",
        "    'statement' : statement\n",
        "}\n",
        "#------\n",
        "             \n",
        "# ayo buat chatbotmu\n",
        "def chatbot(message):\n",
        "    ## code disini\n",
        "    if message.find('?') != -1 : # Mendeteksi apabila variabel message merupakan pertanyaan, dengan memeriksa ketersidaan tanda tanya diakhir string\n",
        "                                 # Jika ada, akan menghasilkan nilai sesuai dengan posisi tanda tanya. Sebaliknya, akan menghasilkan nilai -1. \n",
        "\n",
        "      if message in pertanyaan : # Jika message merupakan key yang terdapat pada dictionary pertanyaan, \n",
        "                                 # maka meng-return value dari list yang bersangkutan, dari dictionary 'pertanyaan'secara random\n",
        "        return random.choice(responses['pertanyaan'][message])\n",
        "      elif message not in pertanyaan: # Jika message merupakan key yang tidak terdapat pada dictionary pertanyaan, \n",
        "                                      # maka meng-return value dari key 'default', dari dictionary 'pertanyaan'\n",
        "        return responses['pertanyaan']['default']\n",
        "    else :                                          # Jika variabel message tidak memiliki tanda tanya,\n",
        "                                                    # maka meng-return value dari list 'statement' secara random\n",
        "      return random.choice(responses['statement'])\n",
        "\n",
        "\n",
        "print(chatbot('Selamat Pagi'))\n",
        "print(chatbot('Mau bermain bersamaku?'))\n",
        "print(chatbot('nama kamu siapa?'))\n",
        "print(chatbot('hari ini tanggal berapa?'))\n",
        "\n",
        "# output :\n",
        "# :)\n",
        "# maaf, aku tidak tahu jawaban dari pertanyaanmu\n",
        "# orang-orang memanggil saya Nama Anda\n",
        "# ya ampun masa tidak tahu, hari ini tanggal"
      ],
      "execution_count": null,
      "outputs": [
        {
          "output_type": "stream",
          "text": [
            ":)\n",
            "maaf, aku tidak tahu jawaban dari pertanyaanmu\n",
            "orang-orang memanggil saya GLaDOS\n",
            "hari ini tanggal 18\n"
          ],
          "name": "stdout"
        }
      ]
    }
  ]
}