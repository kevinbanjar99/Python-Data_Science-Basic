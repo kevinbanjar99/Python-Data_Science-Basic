{
  "nbformat": 4,
  "nbformat_minor": 0,
  "metadata": {
    "kernelspec": {
      "display_name": "Python 3",
      "language": "python",
      "name": "python3"
    },
    "language_info": {
      "codemirror_mode": {
        "name": "ipython",
        "version": 3
      },
      "file_extension": ".py",
      "mimetype": "text/x-python",
      "name": "python",
      "nbconvert_exporter": "python",
      "pygments_lexer": "ipython3",
      "version": "3.7.7"
    },
    "colab": {
      "name": "Tugas Hari 1 Pekan 2_Kevin Natio Banjarnahor.ipynb",
      "provenance": [],
      "collapsed_sections": []
    }
  },
  "cells": [
    {
      "cell_type": "markdown",
      "metadata": {
        "id": "s6LccGLI5deK"
      },
      "source": [
        "<h2>Soal 1: Membuat Objek DataFrames</h2>\n",
        "\n",
        "- Buatlah objek dataframes dari objek dictionary, Bebas!"
      ]
    },
    {
      "cell_type": "code",
      "metadata": {
        "id": "V2jNr8n-5deM",
        "colab": {
          "base_uri": "https://localhost:8080/",
          "height": 102
        },
        "outputId": "bbcb33b9-1379-4af1-a2c1-df92b3495582"
      },
      "source": [
        "# Membuat dataframes dari dictionary\n",
        "\n",
        "import pandas as pd\n",
        " \n",
        "menu = {'Cemilan' : ['Smoothie Rawon', 'Es Rendang', 'Jus Geprek', 'Pudding Uduk'],'Harga' : [10000, 5000, 8000, 6000]} # Inisiasi Dictionary\n",
        "dataFrame_Menu = pd.DataFrame(menu) # Konversi dictionary menjadi data frame\n",
        "print (dataFrame_Menu)"
      ],
      "execution_count": null,
      "outputs": [
        {
          "output_type": "stream",
          "text": [
            "          Cemilan  Harga\n",
            "0  Smoothie Rawon  10000\n",
            "1      Es Rendang   5000\n",
            "2      Jus Geprek   8000\n",
            "3    Pudding Uduk   6000\n"
          ],
          "name": "stdout"
        }
      ]
    },
    {
      "cell_type": "markdown",
      "metadata": {
        "id": "KWEFNf9B5deX"
      },
      "source": [
        "<h2>Soal 2: Membaca data dari file</h2>\n",
        "\n",
        "Download file bernama [diamonds.csv](https://drive.google.com/uc?export=download&id=1qQiM9utQUThTPq8jk8stPMh_y2zfqYOd), kemudian baca data tersebut dan assign ke dalam suatu variabel kemudian print."
      ]
    },
    {
      "cell_type": "code",
      "metadata": {
        "id": "Jy2KtDNs5deZ",
        "colab": {
          "base_uri": "https://localhost:8080/",
          "height": 255
        },
        "outputId": "3cb82031-1654-4712-8c70-b0fc6223e0f0"
      },
      "source": [
        "# Membaca data dan memasukannya kedalam suatu variabel\n",
        "\n",
        "\n",
        "dataFrame_diamonds = pd.read_csv('diamonds-1.csv')\n",
        "print(dataFrame_diamonds)\n"
      ],
      "execution_count": null,
      "outputs": [
        {
          "output_type": "stream",
          "text": [
            "       Unnamed: 0  carat        cut color  ... price     x     y     z\n",
            "0               1   0.23      Ideal     E  ...   326  3.95  3.98  2.43\n",
            "1               2   0.21    Premium     E  ...   326  3.89  3.84  2.31\n",
            "2               3   0.23       Good     E  ...   327  4.05  4.07  2.31\n",
            "3               4   0.29    Premium     I  ...   334  4.20  4.23  2.63\n",
            "4               5   0.31       Good     J  ...   335  4.34  4.35  2.75\n",
            "...           ...    ...        ...   ...  ...   ...   ...   ...   ...\n",
            "53935       53936   0.72      Ideal     D  ...  2757  5.75  5.76  3.50\n",
            "53936       53937   0.72       Good     D  ...  2757  5.69  5.75  3.61\n",
            "53937       53938   0.70  Very Good     D  ...  2757  5.66  5.68  3.56\n",
            "53938       53939   0.86    Premium     H  ...  2757  6.15  6.12  3.74\n",
            "53939       53940   0.75      Ideal     D  ...  2757  5.83  5.87  3.64\n",
            "\n",
            "[53940 rows x 11 columns]\n"
          ],
          "name": "stdout"
        }
      ]
    },
    {
      "cell_type": "markdown",
      "metadata": {
        "id": "1o9m_N295del"
      },
      "source": [
        "Expected Result:\n",
        "\n",
        "![alt text](https://drive.google.com/uc?id=1BvgM5mJEVfj0fllrjkBfQwn0QIFkry_t)"
      ]
    },
    {
      "cell_type": "markdown",
      "metadata": {
        "id": "LtLWF_Ot5deo"
      },
      "source": [
        "<h2>Soal 3: DataFrame vs Series</h2>\n",
        "\n",
        "- Apa perbedaan Series dengan list dan dictionary\n",
        "- Apa perbedaan dataframe dan series\n",
        "- Buatlah suatu data series"
      ]
    },
    {
      "cell_type": "markdown",
      "metadata": {
        "id": "6F2EDcPp5der"
      },
      "source": [
        "Jawab: "
      ]
    },
    {
      "cell_type": "code",
      "metadata": {
        "id": "RBPrIKlZ5dev",
        "colab": {
          "base_uri": "https://localhost:8080/",
          "height": 136
        },
        "outputId": "baafa07e-defc-48d7-f747-2a215cb3d6e7"
      },
      "source": [
        "# code here\n",
        "\n",
        "# 1. Series merupakan fitur dari konstruksi library panda, sedangkan list dan \n",
        "#    dictionary merupakan fitur murni (built-in) dari python. Satu series ha-\n",
        "#    nya dapat menyimpan satu tipe data (seragam), sedangkan list dan dictionary\n",
        "#    dapat terdiri dari beberapa tipe data (beragam). Series secara sederhana\n",
        "#    mirip seperti list.\n",
        "#\n",
        "# 2. Dataframe didefenisikan sebagai suatu objek dua dimensi, yang secara seder-\n",
        "#    hana mennyerupai 'dictionary' atau 'list' dari beberapa 'series'. Dataframe\n",
        "#    terdiri dari dua index, yaitu index baris dan index kolom. Kolom dari Data-\n",
        "#    frame masing-masing terdiri dari satu series, sehingga masing-masing kolom\n",
        "#    hanya dapat menyimpan satu tipe data (seragam).\n",
        "#\n",
        "# 3. ***Dibawah***\n",
        "\n",
        "import pandas as pd\n",
        "\n",
        "x = pd.Series(['alpha','beta','charlie','delta','echo','foxtrot'])\n",
        "print(x)\n"
      ],
      "execution_count": null,
      "outputs": [
        {
          "output_type": "stream",
          "text": [
            "0      alpha\n",
            "1       beta\n",
            "2    charlie\n",
            "3      delta\n",
            "4       echo\n",
            "5    foxtrot\n",
            "dtype: object\n"
          ],
          "name": "stdout"
        }
      ]
    },
    {
      "cell_type": "markdown",
      "metadata": {
        "id": "JNuHgN945de8"
      },
      "source": [
        "<h2>Soal 4: Pemeriksaan Data Sederhana</h2>\n",
        "\n",
        "Di soal no 2 kamu telah membaca data tentang diamonds. pada soal ini cobalah suatu metode dari pandas untuk mengetahui beberapa data pertama dan beberapa data terakhir. kemudian sebutkan nilai dari:\n",
        "- baris pertama dari column price\n",
        "- baris terakhir dari column color\n",
        "\n",
        "tunjukan cara kalian menemukan nilai tersebut di block di bawah ini."
      ]
    },
    {
      "cell_type": "code",
      "source": [
        ""
      ],
      "metadata": {
        "id": "7fc6gJ_QMuWv"
      },
      "execution_count": null,
      "outputs": []
    },
    {
      "cell_type": "code",
      "metadata": {
        "id": "MRvNarxL5de-",
        "colab": {
          "base_uri": "https://localhost:8080/",
          "height": 153
        },
        "outputId": "9b482030-a5d7-4dd4-b124-78d16a4c8bcd"
      },
      "source": [
        "# code here\n",
        "\n",
        "# 1. Untuk permasalahan ini, pertama kita perlu mengakses column yang diinginkan.\n",
        "#    Hal tersebut dapat dilakukan dengan menggunakan baris-code :\n",
        "#         >>  dataframe[column]\n",
        "#    Dimana dataframe merupakan nama dari data frame yang ingin diakses dan column\n",
        "#    adalah nama kolom yang ingin direturn\n",
        "# 2. Dengan mengeksekusi codeline tersebut. Maka akan meng-return sebuah data yang\n",
        "#    yang berisikan konten dari kolom yang di-inginkan dengan tipe data 'Series'.\n",
        "#    Maka, untuk meng-return baris awal kita menggunakan series.head(n) dan untuk\n",
        "#    baris terakhir kita menggunakan series.tail(n). Dimana series mendeskripsikan\n",
        "#    data series yang ingin diakses dan  n mendeskripsikan banyaknya data yang\n",
        "#    ingin di return\n",
        "\n",
        "\n",
        "column_Price = dataFrame_diamonds['price']\n",
        "print('baris pertama dari column price : ')\n",
        "print(column_Price.head(1))\n",
        "\n",
        "print('\\n')\n",
        "\n",
        "column_Color = dataFrame_diamonds['color']\n",
        "print('baris terakhir dari column color : ')\n",
        "print(column_Price.tail(1))\n",
        "\n",
        "\n",
        "# Akan diperoleh nilai pada baris pertama dari column price sebesar 326,dan nilai\n",
        "# pada baris terakhir dari column color sebesar 2757. Hasil ini dapat dibuktikan\n",
        "# dari index hasil eksekusi code."
      ],
      "execution_count": null,
      "outputs": [
        {
          "output_type": "stream",
          "text": [
            "baris pertama dari column price : \n",
            "0    326\n",
            "Name: price, dtype: int64\n",
            "\n",
            "\n",
            "baris terakhir dari column color : \n",
            "53939    2757\n",
            "Name: price, dtype: int64\n"
          ],
          "name": "stdout"
        }
      ]
    },
    {
      "cell_type": "markdown",
      "metadata": {
        "id": "q-u9QIjJ5dfK"
      },
      "source": [
        "<h2>Soal 5: Deskriptif Statistik</h2>\n",
        "\n",
        "Jelaskan apa itu deskriptis statistik!"
      ]
    },
    {
      "cell_type": "markdown",
      "metadata": {
        "id": "iKTeB5Gd5dfM"
      },
      "source": [
        "Jawab: \n",
        "\n",
        "( Statistik Deskriptif / Deskriptif Statistik)\n",
        "\n",
        "Statistik Deskriptif merupakan suatu metode pengumpulan, pengelompokan, dan penyajian suatu data untuk menghasilkan informasi yang terstruktur dan berguna. Data statistik deskriptif dapat disajikan dalam bentuk grafis (meliputi Histogram, Pie Chart, Polygon, Ogive, dan stem and leaf diagram) dan numerik (meliputi Central Tredency, Fractile, Skewness, Pengukuran Keruncingan, dan Dispersion/Pancaran)"
      ]
    },
    {
      "cell_type": "markdown",
      "metadata": {
        "id": "5SKD0rNu5dfP"
      },
      "source": [
        "<h2>Soal 6: Practice Deskriptif Statistik</h2>\n",
        "\n",
        "- Gunakan suatu metode dari pandas untuk mengetahui deskriptif statistik dari suatu data\n",
        "- Berapa nilai rata-rata dari column price\n",
        "- Berapa nilai standar deviasi dari column depth\n",
        "- Berapa nilai maximum dari column carat"
      ]
    },
    {
      "cell_type": "code",
      "metadata": {
        "id": "giNtJG9Y5dfS",
        "colab": {
          "base_uri": "https://localhost:8080/",
          "height": 833
        },
        "outputId": "f193fa7a-0ce0-4f88-f68c-81d6dcdf5479"
      },
      "source": [
        "# code here\n",
        "\n",
        "# Beberapa metode dari pandas untuk mengetahui deskriptif statistik\n",
        "print('INFO : ')\n",
        "print(dataFrame_diamonds.info()) # Summary berupa info mengenai Data Frame\n",
        "print('\\n')\n",
        "print('DESCRIPTION : ')\n",
        "print(dataFrame_diamonds.describe()) # Kesimpulan deskriptif statistik\n",
        "\n",
        "print('\\n')\n",
        "\n",
        "# Mean dari Column Price\n",
        "mean_price = dataFrame_diamonds['price'].mean()\n",
        "print('Nilai rata-rata dari column price')\n",
        "print(mean_price)\n",
        "print('\\n')\n",
        "\n",
        "# Standar Deviasi dari Column Depth\n",
        "std_depth = dataFrame_diamonds['depth'].std()\n",
        "print('Nilai standar deviasi dari column depth')\n",
        "print(std_depth)\n",
        "print('\\n')\n",
        "\n",
        "# Standar Deviasi dari Column Carat\n",
        "max_carat = dataFrame_diamonds['carat'].max()\n",
        "print('Nilai maximum dari column carat :')\n",
        "print(max_carat)\n",
        "print('\\n')"
      ],
      "execution_count": null,
      "outputs": [
        {
          "output_type": "stream",
          "text": [
            "INFO : \n",
            "<class 'pandas.core.frame.DataFrame'>\n",
            "RangeIndex: 53940 entries, 0 to 53939\n",
            "Data columns (total 11 columns):\n",
            " #   Column      Non-Null Count  Dtype  \n",
            "---  ------      --------------  -----  \n",
            " 0   Unnamed: 0  53940 non-null  int64  \n",
            " 1   carat       53940 non-null  float64\n",
            " 2   cut         53940 non-null  object \n",
            " 3   color       53940 non-null  object \n",
            " 4   clarity     53940 non-null  object \n",
            " 5   depth       53940 non-null  float64\n",
            " 6   table       53940 non-null  float64\n",
            " 7   price       53940 non-null  int64  \n",
            " 8   x           53940 non-null  float64\n",
            " 9   y           53940 non-null  float64\n",
            " 10  z           53940 non-null  float64\n",
            "dtypes: float64(6), int64(2), object(3)\n",
            "memory usage: 4.5+ MB\n",
            "None\n",
            "\n",
            "\n",
            "DESCRIPTION : \n",
            "         Unnamed: 0         carat  ...             y             z\n",
            "count  53940.000000  53940.000000  ...  53940.000000  53940.000000\n",
            "mean   26970.500000      0.797940  ...      5.734526      3.538734\n",
            "std    15571.281097      0.474011  ...      1.142135      0.705699\n",
            "min        1.000000      0.200000  ...      0.000000      0.000000\n",
            "25%    13485.750000      0.400000  ...      4.720000      2.910000\n",
            "50%    26970.500000      0.700000  ...      5.710000      3.530000\n",
            "75%    40455.250000      1.040000  ...      6.540000      4.040000\n",
            "max    53940.000000      5.010000  ...     58.900000     31.800000\n",
            "\n",
            "[8 rows x 8 columns]\n",
            "\n",
            "\n",
            "Nilai rata-rata dari column price\n",
            "3932.799721913237\n",
            "\n",
            "\n",
            "Nilai standar deviasi dari column depth\n",
            "1.4326213188337733\n",
            "\n",
            "\n",
            "Nilai maximum dari column carat :\n",
            "5.01\n",
            "\n",
            "\n"
          ],
          "name": "stdout"
        }
      ]
    },
    {
      "cell_type": "markdown",
      "metadata": {
        "id": "M6miZVtG5dfd"
      },
      "source": [
        "Jawab:"
      ]
    }
  ]
}