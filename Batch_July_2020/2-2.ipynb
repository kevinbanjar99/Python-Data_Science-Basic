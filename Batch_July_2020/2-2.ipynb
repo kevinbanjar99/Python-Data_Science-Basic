{
  "nbformat": 4,
  "nbformat_minor": 0,
  "metadata": {
    "kernelspec": {
      "display_name": "Python 3",
      "language": "python",
      "name": "python3"
    },
    "language_info": {
      "codemirror_mode": {
        "name": "ipython",
        "version": 3
      },
      "file_extension": ".py",
      "mimetype": "text/x-python",
      "name": "python",
      "nbconvert_exporter": "python",
      "pygments_lexer": "ipython3",
      "version": "3.7.7"
    },
    "colab": {
      "name": "Tugas Hari 2 Pekan 2_Kevin Natio Banjarnahor.ipynb",
      "provenance": [],
      "collapsed_sections": []
    }
  },
  "cells": [
    {
      "cell_type": "code",
      "metadata": {
        "id": "GyakVoXhBGrv",
        "colab": {
          "base_uri": "https://localhost:8080/",
          "height": 204
        },
        "outputId": "c20a9fcd-a889-4333-a3d9-e2b4c8999a50"
      },
      "source": [
        "# Persiapan membuat data\n",
        "import pandas as pd\n",
        "import random\n",
        "\n",
        "pelajaran = ['Matematika', 'Fisika', 'Biologi', 'Kimia', 'Geologi', 'Ekonomi']\n",
        "kelas = ['12A', '12B', '12C', '12D']\n",
        "\n",
        "hasil_nilai = {\n",
        "    'siswa_id' : range(1, 21),\n",
        "    'pelajaran' : [random.choice(pelajaran) for i in range(20)],\n",
        "    'nilai' : [random.choice(range(0, 100)) for i in range(20)],\n",
        "    'jenis-kelamin' : [random.choice(['laki-laki', 'perempuan']) for i in range(20)],\n",
        "    'kelas' : [random.choice(kelas) for i in range(20)]\n",
        "}\n",
        "\n",
        "df = pd.DataFrame(hasil_nilai)\n",
        "df.head()"
      ],
      "execution_count": null,
      "outputs": [
        {
          "output_type": "execute_result",
          "data": {
            "text/html": [
              "<div>\n",
              "<style scoped>\n",
              "    .dataframe tbody tr th:only-of-type {\n",
              "        vertical-align: middle;\n",
              "    }\n",
              "\n",
              "    .dataframe tbody tr th {\n",
              "        vertical-align: top;\n",
              "    }\n",
              "\n",
              "    .dataframe thead th {\n",
              "        text-align: right;\n",
              "    }\n",
              "</style>\n",
              "<table border=\"1\" class=\"dataframe\">\n",
              "  <thead>\n",
              "    <tr style=\"text-align: right;\">\n",
              "      <th></th>\n",
              "      <th>siswa_id</th>\n",
              "      <th>pelajaran</th>\n",
              "      <th>nilai</th>\n",
              "      <th>jenis-kelamin</th>\n",
              "      <th>kelas</th>\n",
              "    </tr>\n",
              "  </thead>\n",
              "  <tbody>\n",
              "    <tr>\n",
              "      <th>0</th>\n",
              "      <td>1</td>\n",
              "      <td>Matematika</td>\n",
              "      <td>14</td>\n",
              "      <td>perempuan</td>\n",
              "      <td>12D</td>\n",
              "    </tr>\n",
              "    <tr>\n",
              "      <th>1</th>\n",
              "      <td>2</td>\n",
              "      <td>Matematika</td>\n",
              "      <td>9</td>\n",
              "      <td>perempuan</td>\n",
              "      <td>12A</td>\n",
              "    </tr>\n",
              "    <tr>\n",
              "      <th>2</th>\n",
              "      <td>3</td>\n",
              "      <td>Biologi</td>\n",
              "      <td>46</td>\n",
              "      <td>perempuan</td>\n",
              "      <td>12D</td>\n",
              "    </tr>\n",
              "    <tr>\n",
              "      <th>3</th>\n",
              "      <td>4</td>\n",
              "      <td>Kimia</td>\n",
              "      <td>43</td>\n",
              "      <td>perempuan</td>\n",
              "      <td>12A</td>\n",
              "    </tr>\n",
              "    <tr>\n",
              "      <th>4</th>\n",
              "      <td>5</td>\n",
              "      <td>Fisika</td>\n",
              "      <td>11</td>\n",
              "      <td>perempuan</td>\n",
              "      <td>12C</td>\n",
              "    </tr>\n",
              "  </tbody>\n",
              "</table>\n",
              "</div>"
            ],
            "text/plain": [
              "   siswa_id   pelajaran  nilai jenis-kelamin kelas\n",
              "0         1  Matematika     14     perempuan   12D\n",
              "1         2  Matematika      9     perempuan   12A\n",
              "2         3     Biologi     46     perempuan   12D\n",
              "3         4       Kimia     43     perempuan   12A\n",
              "4         5      Fisika     11     perempuan   12C"
            ]
          },
          "metadata": {
            "tags": []
          },
          "execution_count": 40
        }
      ]
    },
    {
      "cell_type": "markdown",
      "metadata": {
        "id": "aNoScqypBGr5"
      },
      "source": [
        "<h2>Soal 1: Indexing</h2>\n",
        "\n",
        "1. Lakukan indexing terhadap dataframe untuk mengakses column nilai dan kelas saja\n",
        "2. Lakukan indexing terhadap dataframe untuk mengakses row 5 sampai 10 beserta column pelajaran dan nilai"
      ]
    },
    {
      "cell_type": "code",
      "metadata": {
        "id": "rKmgvnS2BGr6",
        "colab": {
          "base_uri": "https://localhost:8080/",
          "height": 612
        },
        "outputId": "4aef9899-d88c-448d-924c-6ba92d3b3d10"
      },
      "source": [
        "# code here\n",
        "\n",
        "# Bagian 1\n",
        "# Menggunakan code line :\n",
        "#   >> df[['column_1',..,'column_n']]\n",
        "print('Indexing terhadap dataframe untuk mengakses column nilai dan kelas saja : \\n')\n",
        "print(df[['nilai','kelas']])\n",
        "\n",
        "##########################################\n",
        "print('\\n \\n')\n",
        "##########################################\n",
        "\n",
        "# Bagian 2\n",
        "# Menggunakan code line :\n",
        "#   >>  df.iloc[n]\n",
        "# n dapat berupa angka tunggal ataupun rentang (akses posisi menggunakan indeks)\n",
        "\n",
        "# Pada bagian rentang digunakan adalah 4:10 sesuai dengan indeks baris 5 sampai 10. (i, i+1, ..., j-2, j-1)\n",
        "# df disini telah spesifik untuk mengakses kolom 'pelajaran' dan 'nilai'\n",
        "print('Indexing terhadap dataframe untuk mengakses row 5 sampai 10 beserta column pelajaran dan nilai : \\n')\n",
        "print(df[['pelajaran','nilai']].iloc[4:10])"
      ],
      "execution_count": null,
      "outputs": [
        {
          "output_type": "stream",
          "text": [
            "Indexing terhadap dataframe untuk mengakses column nilai dan kelas saja : \n",
            "\n",
            "    nilai kelas\n",
            "0      14   12D\n",
            "1       9   12A\n",
            "2      46   12D\n",
            "3      43   12A\n",
            "4      11   12C\n",
            "5      89   12C\n",
            "6      94   12C\n",
            "7      29   12C\n",
            "8       9   12C\n",
            "9      60   12A\n",
            "10      9   12C\n",
            "11     45   12B\n",
            "12     79   12C\n",
            "13     84   12D\n",
            "14     60   12B\n",
            "15      3   12B\n",
            "16     38   12B\n",
            "17     72   12C\n",
            "18     50   12D\n",
            "19     37   12B\n",
            "\n",
            " \n",
            "\n",
            "Indexing terhadap dataframe untuk mengakses row 5 sampai 10 beserta column pelajaran dan nilai : \n",
            "\n",
            "  pelajaran  nilai\n",
            "4    Fisika     11\n",
            "5   Geologi     89\n",
            "6   Biologi     94\n",
            "7   Ekonomi     29\n",
            "8   Biologi      9\n",
            "9   Ekonomi     60\n"
          ],
          "name": "stdout"
        }
      ]
    },
    {
      "cell_type": "markdown",
      "metadata": {
        "id": "F55zUl5GBGr_"
      },
      "source": [
        "<h2>Soal 2: Filter DataFrame Dengan Boolean</h2>\n",
        "\n",
        "1. Tampilkan semua data siswa pada mata pelajaran Ekonomi dan Fisika\n",
        "2. Tampilkan semua data siswa yang mempunyai nilai lebih dari 50 di mata pelajaran Kimia \n",
        "3. Tampilkan semua data yang mempunyai nilai lebih dari 70, berjnis kelamin perempuan dan di kelas 12C"
      ]
    },
    {
      "cell_type": "code",
      "metadata": {
        "id": "eB5oSf_KBGsA",
        "colab": {
          "base_uri": "https://localhost:8080/",
          "height": 374
        },
        "outputId": "8b09824a-e5a1-47cf-c68a-5d2608f878cb"
      },
      "source": [
        "# Bagian 1\n",
        "# Dilakukan filter menggunakan codeline :\n",
        "#     >> df.loc['column'].isin[spec_1,..,spec_n]\n",
        "# spec mendefinisikan nilai spesifik yang akan difilter pada kolom yang bersangkutan\n",
        "\n",
        "# df disini telah spesifik untuk mengakses kolom 'pelajaran'\n",
        "# isin([]) diisi dengan mata-pelajaran yang diminta, yaitu Ekonomi dan Fisika.\n",
        "print('Data siswa pada mata pelajaran Ekonomi dan Fisika : \\n')\n",
        "print(df.loc[df['pelajaran'].isin(['Ekonomi','Fisika'])])\n",
        "\n",
        "##########################################\n",
        "print('\\n \\n')\n",
        "##########################################\n",
        "\n",
        "# Bagian 2\n",
        "# Dilakukan filter menggunakan codeline :\n",
        "#     >> df[(boolean_series_1) & ... & (boolean_series_n)]\n",
        "# Code tersebut akan melakukan filter berdasarkan beberapa boolean series, serta\n",
        "# dapat juga dilakukan menggunakan operator and (&) dan or (|), dan sebagainya.\n",
        "\n",
        "kimia = df.pelajaran == 'Kimia' # Boolean Series untuk pelajaran kimia\n",
        "lebih_dari_50 = df.nilai > 50 # Boolean Series untuk nilai lebih dari 50\n",
        "print('Data siswa yang mempunyai nilai lebih dari 50 di mata pelajaran Kimia : \\n')\n",
        "print(df[(kimia)&(lebih_dari_50)])\n",
        "\n",
        "##########################################\n",
        "print('\\n \\n')\n",
        "##########################################\n",
        "# Bagian 3\n",
        "# Menggunakan gabungan dari bagian 1 dan bagian 2 agar dapat berfungsi dengan baik.\n",
        "\n",
        "lebih_dari_70 = df.nilai > 70  # Boolean Series untuk nilai lebih dari 70\n",
        "kelas_12C = df.kelas == '12C' # Boolean Series untuk pelajaran kimia 12C\n",
        "\n",
        "# Comment dibawah ini merupakan codeline yang akan menghasilkan error apabila kita,\n",
        "# mengreturn boolean series untuk jenis kelamin perempuan. Hal tersebut disebabkan\n",
        "# oleh adanya tanda negatif (-) pada variabel 'jenis-kelamin' yang dianggap sebagai\n",
        "# operator.\n",
        "#     >> perempuan = df.jenis-kelamin == 'perempuan'\n",
        "#     >> printdf[(lebih_dari_70) & (kelas_12C) & (perempuan)]\n",
        "\n",
        "# Maka dilakukan filter antara boolean series nilai yang lebih dari 70 dan kelas 12 C\n",
        "gabung_nilai_dan_kelas = df[(lebih_dari_70) & (kelas_12C)]\n",
        "\n",
        "# Selanjutnya, kita menspesifikan jenis kelamin dengan menggunakan codeline\n",
        "#     >> df.loc[]\n",
        "print('Data siswa mempunyai nilai lebih dari 70, berjenis kelamin perempuan dan di kelas 12C : \\n')\n",
        "print((gabung_nilai_dan_kelas.loc[gabung_nilai_dan_kelas['jenis-kelamin'] == 'perempuan']))\n",
        "\n",
        "\n",
        "\n",
        "\n"
      ],
      "execution_count": null,
      "outputs": [
        {
          "output_type": "stream",
          "text": [
            "Data siswa pada mata pelajaran Ekonomi dan Fisika : \n",
            "\n",
            "   siswa_id pelajaran  nilai jenis-kelamin kelas\n",
            "4         5    Fisika     11     perempuan   12C\n",
            "7         8   Ekonomi     29     laki-laki   12C\n",
            "9        10   Ekonomi     60     laki-laki   12A\n",
            "\n",
            " \n",
            "\n",
            "Data siswa yang mempunyai nilai lebih dari 50 di mata pelajaran Kimia : \n",
            "\n",
            "    siswa_id pelajaran  nilai jenis-kelamin kelas\n",
            "14        15     Kimia     60     laki-laki   12B\n",
            "\n",
            " \n",
            "\n",
            "Data siswa mempunyai nilai lebih dari 70, berjenis kelamin perempuan dan di kelas 12C : \n",
            "\n",
            "    siswa_id pelajaran  nilai jenis-kelamin kelas\n",
            "5          6   Geologi     89     perempuan   12C\n",
            "12        13   Biologi     79     perempuan   12C\n"
          ],
          "name": "stdout"
        }
      ]
    },
    {
      "cell_type": "markdown",
      "metadata": {
        "id": "6Od6R3H1BGsE"
      },
      "source": [
        "<h2>Soal 3: Data Transformation</h2>\n",
        "\n",
        "lakukan data transformasi terhadap column 'nilai' dengan fungsi transformasi, berikut rumus dari normalisasi\n",
        "\n",
        "![alt text](https://drive.google.com/uc?id=1wed-EbRSTA0JP1ceDp6lcKBqH2yJ4aa3)"
      ]
    },
    {
      "cell_type": "code",
      "metadata": {
        "id": "qeV_iH8nBGsF",
        "colab": {
          "base_uri": "https://localhost:8080/",
          "height": 476
        },
        "outputId": "b2f8f329-f87b-4982-9b05-347c21be7e0a"
      },
      "source": [
        "# code here\n",
        "\n",
        "def normalization (x) : # Definisi fungsi normalisasi\n",
        "  return (x - x.min()) / (x.max()-x.min())\n",
        "\n",
        "print('Nilai minimum : ' + str(df.nilai.min())) \n",
        "print('Nilai maksimum : ' + str(df.nilai.max()))\n",
        "\n",
        "print('\\n')\n",
        "\n",
        "print('Series nilai hasil normalisasi : \\n')\n",
        "print(df[['nilai']].apply(normalization)) # Menggunakan method apply() untuk kolom 'nilai'\n",
        "\n"
      ],
      "execution_count": null,
      "outputs": [
        {
          "output_type": "stream",
          "text": [
            "Nilai minimum : 3\n",
            "Nilai maksimum : 94\n",
            "\n",
            "\n",
            "Series nilai hasil normalisasi : \n",
            "\n",
            "       nilai\n",
            "0   0.120879\n",
            "1   0.065934\n",
            "2   0.472527\n",
            "3   0.439560\n",
            "4   0.087912\n",
            "5   0.945055\n",
            "6   1.000000\n",
            "7   0.285714\n",
            "8   0.065934\n",
            "9   0.626374\n",
            "10  0.065934\n",
            "11  0.461538\n",
            "12  0.835165\n",
            "13  0.890110\n",
            "14  0.626374\n",
            "15  0.000000\n",
            "16  0.384615\n",
            "17  0.758242\n",
            "18  0.516484\n",
            "19  0.373626\n"
          ],
          "name": "stdout"
        }
      ]
    }
  ]
}