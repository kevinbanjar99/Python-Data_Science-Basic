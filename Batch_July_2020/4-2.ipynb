{
  "nbformat": 4,
  "nbformat_minor": 0,
  "metadata": {
    "kernelspec": {
      "display_name": "Python 3",
      "language": "python",
      "name": "python3"
    },
    "language_info": {
      "codemirror_mode": {
        "name": "ipython",
        "version": 3
      },
      "file_extension": ".py",
      "mimetype": "text/x-python",
      "name": "python",
      "nbconvert_exporter": "python",
      "pygments_lexer": "ipython3",
      "version": "3.7.6"
    },
    "colab": {
      "name": "Tugas Hari 2 Pekan 4_Kevin Natio Banjarnahor.ipynb",
      "provenance": [],
      "collapsed_sections": []
    }
  },
  "cells": [
    {
      "cell_type": "markdown",
      "metadata": {
        "id": "5K6xQ_mFbt7B"
      },
      "source": [
        "<h1>Soal 1: Pemahaman Algoritma</h1>\n",
        "\n",
        "Jawab Pertanyaan di bawah ini dengan penyampaian bahasa sendiri!\n",
        "\n",
        "1. Bagaimana proses algoritma KNN?\n",
        "2. Jelaskan minimal 2 kekurangan dari algoritma KNN?"
      ]
    },
    {
      "cell_type": "markdown",
      "metadata": {
        "id": "00A5KWAygagM"
      },
      "source": [
        "Jawab:\n",
        "\n",
        "1. Algoritma KKN akan mendefenisikan suatu label dari suatu data feature (klasifikasi) berdasarkan mayoritas dari kategori k-tetangga terdekat. Misalnya ada suatu objek feature yang memiliki 3 tetangga antara 2 data 'alpha' dan 1 data 'beta'. Maka objek feature tersebut akan diklasifikasikan sebagai alpha. Secara proses, pertama, algoritma ini akan menghitung jarak antar data point dan kemudian mengambil data terdekat. Kemudian akan melakukan voting\n",
        "\n",
        "2. <p>- Algoritma KNN sangat sensitif terhadap data pencilan (outlier)\n",
        "   <p>- Apabila k bernilai genap dan masing-masing kelas label pada neighbourhood data memiliki jumlah yang sama, maka algoritma KNN akan kebingungan dan melakukan klasifikasi secara acak (solusi : melakukan pembobotan berdasarkan jarak)"
      ]
    },
    {
      "cell_type": "markdown",
      "metadata": {
        "id": "UDvanK5pgcnF"
      },
      "source": [
        "---"
      ]
    },
    {
      "cell_type": "markdown",
      "metadata": {
        "id": "VsHxDJ4jbt7P"
      },
      "source": [
        "<h1>Soal 2: Pengaplikasian Algoritma KNN</h1>\n",
        "\n",
        "- Buatlah model KNN\n",
        "- Training model tersebut kepada data X_train dengan hyperparameter kombinasi antara  2<= k <=20 dan weights bernilai 'uniform', dan 'distance'  \n",
        "- Lakukan prediksi terhadap data X_test untuk model di setiap kombinasi k dan weights\n",
        "- Score dengan accuracy dari hasil prediksi terhadap data X_test untuk setiap kombinasi hyperparameter, masukan score tersebut ke dalam objek list dengan di groupkan berdasarkan jenis weights, sehingga di akhir kita punya variable misalkan list_uniform_score, dan list_distance_score\n",
        "- Plot kedua list tersebut dengan lineplot kedalam satu axis dan bandingkan hasilnya"
      ]
    },
    {
      "cell_type": "code",
      "metadata": {
        "id": "Gng40Wu8bt7c",
        "colab": {
          "base_uri": "https://localhost:8080/",
          "height": 1000
        },
        "outputId": "1cfae5d4-8e33-4d5c-8647-10cf94a82951"
      },
      "source": [
        "from sklearn.datasets import load_wine\n",
        "from sklearn.neighbors import KNeighborsClassifier\n",
        "from scipy import stats\n",
        "import pandas as pd\n",
        "import numpy as np\n",
        "\n",
        "wine = load_wine()\n",
        "df = pd.DataFrame(np.c_[wine['data'], wine['target']], columns= wine['feature_names'] + ['class'])\n",
        "\n",
        "#Preprocessing data\n",
        "X = df.drop('class', axis=1)\n",
        "y = df['class']\n",
        "\n",
        "from sklearn.model_selection import train_test_split\n",
        "\n",
        "X_train, X_test, y_train, y_test = train_test_split(X, y, test_size=0.2, random_state=21)\n",
        "\n",
        "from sklearn.metrics import accuracy_score\n",
        "\n",
        "list_kValue = []\n",
        "list_acc_U = []\n",
        "list_acc_D = []\n",
        "\n",
        "for i in range(2,21) :\n",
        "\n",
        "  list_kValue.append(i)\n",
        "\n",
        "  model_KNN_U = KNeighborsClassifier(n_neighbors=i, weights='uniform')\n",
        "  model_KNN_U.fit(X_train,y_train)\n",
        "  y_predU = model_KNN_U.predict(X_test)\n",
        "  accU = accuracy_score(y_test,y_predU)\n",
        "  list_acc_U.append(accU)\n",
        "\n",
        "  model_KNN_D = KNeighborsClassifier(n_neighbors=i, weights='distance')\n",
        "  model_KNN_D.fit(X_train,y_train)\n",
        "  y_predD = model_KNN_D.predict(X_test)\n",
        "  accD = accuracy_score(y_test,y_predD)\n",
        "  list_acc_D.append(accD)\n",
        "\n",
        "print('Uniform Scores')\n",
        "display(list_acc_U)\n",
        "\n",
        "print('\\n')\n",
        "\n",
        "print('Distance Scores')\n",
        "display(list_acc_D)\n",
        "\n",
        "\n",
        "import matplotlib.pyplot as plt\n",
        "\n",
        "fig, ax = plt.subplots(figsize=(12, 6))\n",
        "ax.plot(list_kValue, list_acc_U , color='b', label='Uniform Scores', marker='s')\n",
        "ax.plot(list_kValue, list_acc_D , color='r', label='Distance Scores', marker='s')\n",
        "ax.set_title('Accuracy : Uniform Scores Vs Distance Scores')\n",
        "ax.set_xlabel('K-Value')\n",
        "ax.set_ylabel('Scores')\n",
        "ax.legend()\n",
        "plt.show()\n"
      ],
      "execution_count": null,
      "outputs": [
        {
          "output_type": "stream",
          "text": [
            "Uniform Scores\n"
          ],
          "name": "stdout"
        },
        {
          "output_type": "display_data",
          "data": {
            "text/plain": [
              "[0.6944444444444444,\n",
              " 0.8055555555555556,\n",
              " 0.7222222222222222,\n",
              " 0.6666666666666666,\n",
              " 0.6388888888888888,\n",
              " 0.75,\n",
              " 0.6388888888888888,\n",
              " 0.6944444444444444,\n",
              " 0.6944444444444444,\n",
              " 0.7222222222222222,\n",
              " 0.6388888888888888,\n",
              " 0.6666666666666666,\n",
              " 0.6388888888888888,\n",
              " 0.6666666666666666,\n",
              " 0.6111111111111112,\n",
              " 0.6666666666666666,\n",
              " 0.6388888888888888,\n",
              " 0.6666666666666666,\n",
              " 0.6111111111111112]"
            ]
          },
          "metadata": {
            "tags": []
          }
        },
        {
          "output_type": "stream",
          "text": [
            "\n",
            "\n",
            "Distance Scores\n"
          ],
          "name": "stdout"
        },
        {
          "output_type": "display_data",
          "data": {
            "text/plain": [
              "[0.75,\n",
              " 0.8333333333333334,\n",
              " 0.7777777777777778,\n",
              " 0.75,\n",
              " 0.7222222222222222,\n",
              " 0.75,\n",
              " 0.6944444444444444,\n",
              " 0.7222222222222222,\n",
              " 0.6944444444444444,\n",
              " 0.6944444444444444,\n",
              " 0.6944444444444444,\n",
              " 0.6944444444444444,\n",
              " 0.6944444444444444,\n",
              " 0.6666666666666666,\n",
              " 0.6666666666666666,\n",
              " 0.6666666666666666,\n",
              " 0.6666666666666666,\n",
              " 0.6666666666666666,\n",
              " 0.6666666666666666]"
            ]
          },
          "metadata": {
            "tags": []
          }
        },
        {
          "output_type": "display_data",
          "data": {
            "image/png": "[encoded data removed]",
            "text/plain": [
              "<Figure size 864x432 with 1 Axes>"
            ]
          },
          "metadata": {
            "tags": [],
            "needs_background": "light"
          }
        }
      ]
    },
    {
      "cell_type": "markdown",
      "metadata": {
        "id": "9IRv63G0bt8T"
      },
      "source": [
        "Contoh hasil yang di harapkan :\n",
        "\n",
        "\n",
        "```\n",
        "Uniform Scores:\n",
        "[0.6944444444444444,\n",
        " 0.8055555555555556,\n",
        " 0.7222222222222222,\n",
        " 0.6666666666666666,\n",
        " 0.6388888888888888,\n",
        " 0.75,\n",
        " 0.6388888888888888,\n",
        " 0.6944444444444444,\n",
        " 0.6944444444444444,\n",
        " 0.7222222222222222,\n",
        " 0.6388888888888888,\n",
        " 0.6666666666666666,\n",
        " 0.6388888888888888,\n",
        " 0.6666666666666666,\n",
        " 0.6111111111111112,\n",
        " 0.6666666666666666,\n",
        " 0.6388888888888888,\n",
        " 0.6666666666666666,\n",
        " 0.6111111111111112]\n",
        "\n",
        "Distance scores:\n",
        "[0.75,\n",
        " 0.8333333333333334,\n",
        " 0.7777777777777778,\n",
        " 0.75,\n",
        " 0.7222222222222222,\n",
        " 0.75,\n",
        " 0.6944444444444444,\n",
        " 0.7222222222222222,\n",
        " 0.6944444444444444,\n",
        " 0.6944444444444444,\n",
        " 0.6944444444444444,\n",
        " 0.6944444444444444,\n",
        " 0.6944444444444444,\n",
        " 0.6666666666666666,\n",
        " 0.6666666666666666,\n",
        " 0.6666666666666666,\n",
        " 0.6666666666666666,\n",
        " 0.6666666666666666,\n",
        " 0.6666666666666666]\n",
        "```\n",
        "\n",
        "\n",
        "\n",
        " \n",
        "\n",
        "\n",
        "![alt text](https://drive.google.com/uc?id=1pppy_BWQsg5tdgOBEU1GgiHSklLLoimt)"
      ]
    },
    {
      "cell_type": "markdown",
      "metadata": {
        "id": "UnInuMmFgfQp"
      },
      "source": [
        "---"
      ]
    },
    {
      "cell_type": "markdown",
      "metadata": {
        "id": "1xGA6Usmbt8b"
      },
      "source": [
        "<h1>Soal 3: Pengaplikasian Model Linear Regression</h1>\n",
        "\n",
        "Applikasikan model linear regresi kedalam data berikut. Kemudian tunjukan parameter koefesien dan intercept dari model tersebut."
      ]
    },
    {
      "cell_type": "code",
      "metadata": {
        "id": "IEsbrAiybt8i",
        "colab": {
          "base_uri": "https://localhost:8080/",
          "height": 123
        },
        "outputId": "d9d4c4d7-c0b9-45f0-8a29-b64103706eb1"
      },
      "source": [
        "from  sklearn.linear_model import LinearRegression\n",
        "import numpy as np\n",
        "\n",
        "rng = np.random.RandomState(1)\n",
        "\n",
        "X = 10 * rng.rand(50, 4)\n",
        "y = np.array([  0.9826564 ,  49.40390035,  85.76013175,  29.17254633,\n",
        "        11.270054  ,  61.53852735, -19.52503854,  10.10230867,\n",
        "        82.03058206,  45.72660678,  82.09252575,  90.78872391,\n",
        "        67.94178098,  39.97492762, 124.78866966,  85.24615819,\n",
        "        85.68491086,  80.39481211,  14.54591581, 137.19722354,\n",
        "        85.04063428,  94.76681927,  84.64289989,  38.76421156,\n",
        "        47.33953927,  94.50853335,  77.3276567 ,  -9.77846805,\n",
        "        61.13434468,  42.12124052,  26.65634335, 120.41593333,\n",
        "       138.08132504, 103.33745675, 145.64447692,  19.54777986,\n",
        "        87.40631024, 111.47327389,  95.94874761, 146.34817502,\n",
        "       118.10333528,  56.85956484, 108.57660235, 114.30790247,\n",
        "        40.27107041,  73.83871008,  45.52217182,  -7.57752547,\n",
        "       147.81772162, 139.40285349])\n",
        "\n",
        "y_reshape = y.reshape(-1,1)\n",
        "\n",
        "model_LR = LinearRegression(fit_intercept=True)\n",
        "model_LR.fit(X, y_reshape)\n",
        "\n",
        "y_predict = model_LR.predict(X)\n",
        "\n",
        "print('Parameter Koefisien (Slope) : ')\n",
        "display(model_LR.coef_)\n",
        "print('\\n')\n",
        "print('Parameter Intercept : ')\n",
        "display(model_LR.intercept_)\n"
      ],
      "execution_count": null,
      "outputs": [
        {
          "output_type": "stream",
          "text": [
            "Parameter Koefisien (Slope) : \n"
          ],
          "name": "stdout"
        },
        {
          "output_type": "display_data",
          "data": {
            "text/plain": [
              "array([[ 1.5, -5. ,  9. , 10. ]])"
            ]
          },
          "metadata": {
            "tags": []
          }
        },
        {
          "output_type": "stream",
          "text": [
            "\n",
            "\n",
            "Parameter Intercept : \n"
          ],
          "name": "stdout"
        },
        {
          "output_type": "display_data",
          "data": {
            "text/plain": [
              "array([0.5])"
            ]
          },
          "metadata": {
            "tags": []
          }
        }
      ]
    }
  ]
}