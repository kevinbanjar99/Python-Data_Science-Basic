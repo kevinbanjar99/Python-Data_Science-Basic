{
  "nbformat": 4,
  "nbformat_minor": 0,
  "metadata": {
    "kernelspec": {
      "display_name": "Python 3",
      "language": "python",
      "name": "python3"
    },
    "language_info": {
      "codemirror_mode": {
        "name": "ipython",
        "version": 3
      },
      "file_extension": ".py",
      "mimetype": "text/x-python",
      "name": "python",
      "nbconvert_exporter": "python",
      "pygments_lexer": "ipython3",
      "version": "3.7.6"
    },
    "colab": {
      "name": "Tugas Hari 3 Pekan 4_Kevin Natio Banjarnahor.ipynb",
      "provenance": [],
      "collapsed_sections": []
    }
  },
  "cells": [
    {
      "cell_type": "markdown",
      "metadata": {
        "id": "PrQVcF-ldGWQ"
      },
      "source": [
        "<h1> Soal 1: Pemahaman Tentang Model Evaluasi</h1>\n",
        "\n",
        "Jawab pertanyaan di bawah ini dengan bahasa masing-masing?\n",
        "\n",
        "1. Apa perbedaan antara data latih, data validasi, dan data test?\n",
        "2. Bagaimana cara kita menilai performa suatu model?\n",
        "3. Apa itu Confusion Matrix? Jelaskan secara lengkap!\n",
        "4. Apa itu Classification Report dari sklearn?"
      ]
    },
    {
      "cell_type": "markdown",
      "metadata": {
        "id": "sr6D5UIhgpwO"
      },
      "source": [
        "*Jawab*:\n",
        "1. <p>Data latih merupakan data yang sudah ada yang digunakan oleh model yang kita bentuk untuk belajar. <p> Data Validasi adalah data yang sudah ada yang digunakan untuk memvalidasi model terhadap data yang telah diprediksi. (Dengan kata lain kita mempunyai data label dari data feature yang bersangkutan, tetapi data feature tersebut tidak digunakan oleh model untuk training). <p> Data Test merupakan data baru yang digunakan untuk diprediksi data labelnya menggunakan model\n",
        "\n",
        "2. <p> a. Menggunakan metrics accuracy_score (berpotensi gagal jika proporsi ouput data tidak seimbang).  <p>b. Menggunakan metrics Cross Validation <p> c.Menggunakan analisa nilai precision, recall, dan f1-score menggunakan confusion matrix ataupun classification report\n",
        "\n",
        "3. Confusion matrix didefenisikan sebagai klasifikasi statistik yang memvisualisasiklan nilai hasil prediksi yang dibandingkan dengan data sebenarnya. Nilai tersebut ada 2, yaitu positif dan negatif. Berikut keterangan kolom data dari confusion matrix :\n",
        "<p>- True Positive, apabila tebakannya bernilai positif dan data aktualnya bernilai positif\n",
        "<p>- True Negative, apabila tebakannya bernilai negatif dan data aktualnya bernilai negatif\n",
        "<p>- False Positive, apabila tebakannya bernilai positif dan data aktualnya bernilai negatif\n",
        "<p>- False Negative, apabila tebakannya bernilai negatif dan data aktualnya bernilai positif\n",
        "Pada Confusion matrix, ada 2 jenis error :\n",
        "<p>- Type 1 error = Tebakan salah, bernilai positif\n",
        "<p>- Type 2 error = Tebakan salah, bernilai negatif\n",
        "\n",
        "4. Classification_report merupakan fungsi yang digunakan untuk menghasilkan report mengenai klasifikasi metrics, berdasarkan data test (yang kita punya) dengan data prediksi. Perhitungan pada precision, recall, serta f1-score pada fungsi ini didasari pada confusion matrix  "
      ]
    },
    {
      "cell_type": "markdown",
      "metadata": {
        "id": "uY-s7-KDgrkV"
      },
      "source": [
        "---"
      ]
    },
    {
      "cell_type": "markdown",
      "metadata": {
        "id": "Fv2TVsgAdGWY"
      },
      "source": [
        "<h1>Soal 2: Aplikasi Model Evaluasi</h1>\n",
        "\n",
        "Kali ini kita akan menggunakan data untuk memprediksi kelangsungan hidup pasien yang telah mengalami operasi payudara. Dengan informasi yang dimiliki terkait pasien, kita akan membuat model untuk memprediksi apakah pasien akan bertahan hidup dalam waktu lebih dari 5 tahun atau tidak.\n",
        "\n",
        "Lebih Lengkapnya kalian bisa membaca informasi tentang dataset di link berikut: https://raw.githubusercontent.com/jbrownlee/Datasets/master/haberman.names\n",
        "\n",
        "Buat model Klasifikasi (Model/Algoritma Bebas) untuk memprediksi status pasien dengan ketentuan sebagai berikut:\n",
        "\n",
        "1. Bagi kedua data ini menjadi data training dan data test dengan test_size=0.25.\n",
        "3. Pelajar tentang metrics roc_auc_score kemudian buatlah model dan evaluasi dengan menggunakan teknik cross-validation dengan scoring 'roc_auc'. Baca https://scikit-learn.org/stable/modules/generated/sklearn.model_selection.cross_val_score.html untuk menggunakan metric roc_auc saat cross-validation.\n",
        "3. Berapa score rata2 dari model dengan teknik cross-validation tersebut?\n",
        "4. Prediksi data test dengan model yang telah kalian buat!\n",
        "5. Bagaimana hasil confusion matrix dari hasil prediksi tersebut?\n",
        "6. Bagaimana classification report dari hasil prediksi tersebut?\n",
        "5. Seberapa baik model anda dalam memprediksi seorang pasien mempunyai status positive?\n",
        "6. Seberapa baik model anda dalam memprediksi seorang pasien mempunyai status negatif?"
      ]
    },
    {
      "cell_type": "code",
      "metadata": {
        "id": "g4UqaWyPdGWj"
      },
      "source": [
        "import pandas as pd\n",
        "\n",
        "url = 'https://raw.githubusercontent.com/jbrownlee/Datasets/master/haberman.csv'\n",
        "list_cols = ['Age', \"Patient's Years\", \"N_positive_ax\", \"survival_status\"]\n",
        "df = pd.read_csv(url, names=list_cols)"
      ],
      "execution_count": null,
      "outputs": []
    },
    {
      "cell_type": "code",
      "metadata": {
        "id": "YrbPNGtHdGXV",
        "colab": {
          "base_uri": "https://localhost:8080/",
          "height": 197
        },
        "outputId": "da36239b-47ae-4eff-f631-19cdc1b5af0d"
      },
      "source": [
        "df.head()"
      ],
      "execution_count": null,
      "outputs": [
        {
          "output_type": "execute_result",
          "data": {
            "text/html": [
              "<div>\n",
              "<style scoped>\n",
              "    .dataframe tbody tr th:only-of-type {\n",
              "        vertical-align: middle;\n",
              "    }\n",
              "\n",
              "    .dataframe tbody tr th {\n",
              "        vertical-align: top;\n",
              "    }\n",
              "\n",
              "    .dataframe thead th {\n",
              "        text-align: right;\n",
              "    }\n",
              "</style>\n",
              "<table border=\"1\" class=\"dataframe\">\n",
              "  <thead>\n",
              "    <tr style=\"text-align: right;\">\n",
              "      <th></th>\n",
              "      <th>Age</th>\n",
              "      <th>Patient's Years</th>\n",
              "      <th>N_positive_ax</th>\n",
              "      <th>survival_status</th>\n",
              "    </tr>\n",
              "  </thead>\n",
              "  <tbody>\n",
              "    <tr>\n",
              "      <th>0</th>\n",
              "      <td>30</td>\n",
              "      <td>64</td>\n",
              "      <td>1</td>\n",
              "      <td>1</td>\n",
              "    </tr>\n",
              "    <tr>\n",
              "      <th>1</th>\n",
              "      <td>30</td>\n",
              "      <td>62</td>\n",
              "      <td>3</td>\n",
              "      <td>1</td>\n",
              "    </tr>\n",
              "    <tr>\n",
              "      <th>2</th>\n",
              "      <td>30</td>\n",
              "      <td>65</td>\n",
              "      <td>0</td>\n",
              "      <td>1</td>\n",
              "    </tr>\n",
              "    <tr>\n",
              "      <th>3</th>\n",
              "      <td>31</td>\n",
              "      <td>59</td>\n",
              "      <td>2</td>\n",
              "      <td>1</td>\n",
              "    </tr>\n",
              "    <tr>\n",
              "      <th>4</th>\n",
              "      <td>31</td>\n",
              "      <td>65</td>\n",
              "      <td>4</td>\n",
              "      <td>1</td>\n",
              "    </tr>\n",
              "  </tbody>\n",
              "</table>\n",
              "</div>"
            ],
            "text/plain": [
              "   Age  Patient's Years  N_positive_ax  survival_status\n",
              "0   30               64              1                1\n",
              "1   30               62              3                1\n",
              "2   30               65              0                1\n",
              "3   31               59              2                1\n",
              "4   31               65              4                1"
            ]
          },
          "metadata": {
            "tags": []
          },
          "execution_count": 7
        }
      ]
    },
    {
      "cell_type": "code",
      "metadata": {
        "id": "-dxYNPg7dGX4",
        "colab": {
          "base_uri": "https://localhost:8080/",
          "height": 70
        },
        "outputId": "0470086a-338c-4770-cf3d-23838c316780"
      },
      "source": [
        "df['survival_status'].value_counts()"
      ],
      "execution_count": null,
      "outputs": [
        {
          "output_type": "execute_result",
          "data": {
            "text/plain": [
              "1    225\n",
              "2     81\n",
              "Name: survival_status, dtype: int64"
            ]
          },
          "metadata": {
            "tags": []
          },
          "execution_count": 8
        }
      ]
    },
    {
      "cell_type": "code",
      "metadata": {
        "id": "8W2amvZgdGYX",
        "colab": {
          "base_uri": "https://localhost:8080/",
          "height": 567
        },
        "outputId": "87f09770-61ff-472b-dd9d-b57e7c20b188"
      },
      "source": [
        "# Code here\n",
        "from sklearn.neighbors import KNeighborsClassifier\n",
        "from sklearn.model_selection import cross_val_score\n",
        "\n",
        "X = df.drop('survival_status', axis=1)\n",
        "y = df['survival_status']\n",
        "\n",
        "from sklearn.model_selection import train_test_split\n",
        "\n",
        "X_train, X_test, y_train, y_test = train_test_split(X, y, test_size=0.25, random_state=21, stratify=y)\n",
        "\n",
        "model = KNeighborsClassifier(n_neighbors=7, weights='distance')\n",
        "cv_score = cross_val_score(model, X, y, scoring='roc_auc', cv=10)\n",
        "\n",
        "print('Score rata2 dari model dengan teknik cross-validation : ')\n",
        "print(cv_score.mean())\n",
        "\n",
        "model.fit(X_train,y_train)\n",
        "y_predict = model.predict(X_test)\n",
        "\n",
        "from sklearn.metrics import confusion_matrix, classification_report\n",
        "\n",
        "# survived_status = 1 => Hidup lebih dari 5 tahun (pos)\n",
        "# survived_status = 2 => Hidup kurang dari 5 tahun (neg)\n",
        "\n",
        "print('\\n')\n",
        "\n",
        "print('Confusion Matrix :')\n",
        "conf_mat = confusion_matrix(y_test, y_predict, labels=[1, 2])\n",
        "print(conf_mat)\n",
        "\n",
        "print('\\n')\n",
        "\n",
        "print('Hidup Lebih dari 5 Tahun (1) :')\n",
        "prec1 = conf_mat[0][0]/(conf_mat[0][0] + conf_mat[1][0])\n",
        "rec1 = conf_mat[0][0]/(conf_mat[0][0] + conf_mat[0][1])\n",
        "f1s1 = 2*prec1*rec1/(prec1+rec1)\n",
        "print(f' Precision : {prec1}')\n",
        "print(f' Recall : {rec1}')\n",
        "print(f' f1 Score : {f1s1}')\n",
        "\n",
        "print('\\n')\n",
        "\n",
        "print('Hidup Kurang dari 5 Tahun (2) :')\n",
        "prec2 = conf_mat[1][1]/(conf_mat[0][1] + conf_mat[1][1])\n",
        "rec2 = conf_mat[1][1]/(conf_mat[1][0] + conf_mat[1][1])\n",
        "f1s2 = 2*prec2*rec2/(prec2+rec2)\n",
        "print(f' Precision : {prec2}')\n",
        "print(f' Recall : {rec2}')\n",
        "print(f' f1 Score : {f1s2}')\n",
        "\n",
        "print('\\n')\n",
        "\n",
        "print('Classification Report :')\n",
        "class_report = classification_report(y_test, y_predict)\n",
        "print(class_report)\n"
      ],
      "execution_count": null,
      "outputs": [
        {
          "output_type": "stream",
          "text": [
            "Score rata2 dari model dengan teknik cross-validation : \n",
            "0.6661410298638559\n",
            "\n",
            "\n",
            "Confusion Matrix :\n",
            "[[46 11]\n",
            " [14  6]]\n",
            "\n",
            "\n",
            "Hidup Lebih dari 5 Tahun (1) :\n",
            " Precision : 0.7666666666666667\n",
            " Recall : 0.8070175438596491\n",
            " f1 Score : 0.7863247863247863\n",
            "\n",
            "\n",
            "Hidup Kurang dari 5 Tahun (2) :\n",
            " Precision : 0.35294117647058826\n",
            " Recall : 0.3\n",
            " f1 Score : 0.3243243243243243\n",
            "\n",
            "\n",
            "Classification Report :\n",
            "              precision    recall  f1-score   support\n",
            "\n",
            "           1       0.77      0.81      0.79        57\n",
            "           2       0.35      0.30      0.32        20\n",
            "\n",
            "    accuracy                           0.68        77\n",
            "   macro avg       0.56      0.55      0.56        77\n",
            "weighted avg       0.66      0.68      0.67        77\n",
            "\n"
          ],
          "name": "stdout"
        }
      ]
    },
    {
      "cell_type": "markdown",
      "metadata": {
        "id": "8QM1eU2aSpzf"
      },
      "source": [
        "Bedasarkan hasil tersebut maka, dapat dilihat bahwa model ini kurang baik untuk memprediksi pasien yang positif hidup lebih dari 5 tahun (bernilai 1), dimana nilai precisionnya sebesar 0.77, recallnya sebesar 0.81, serta f1-scorenya sebesar 0.79. Model ini sangat buruk untuk memprediksi untuk memprediksi pasien yang negatif untuk hidup lebih dari 5 tahun (bernilai 2), dimana nilai precision sebesar 0.35, recallnya sebesar 0.30, serta f1-score sebesar 0.32. Secara keseluruhan, model ini buruk karena memiliki akurasi sebesar 66.614% (scoring 'roc_auc')"
      ]
    },
    {
      "cell_type": "markdown",
      "metadata": {
        "id": "I6v_dgoN-7wL"
      },
      "source": [
        "---"
      ]
    },
    {
      "cell_type": "markdown",
      "metadata": {
        "id": "teekoyIw--g2"
      },
      "source": [
        "<h1> Soal 3: Pemahaman Tentang Model Selection</h1>\n",
        "\n",
        "Jelaskan dengan bahasa sendiri!\n",
        "\n",
        "1. Apa itu Bias dan Variance?\n",
        "2. Apa itu Overfitting dan Underfitting?\n",
        "3. Apa yang bisa kita lakukan untuk mengatur kompleksitas dari model?\n",
        "4. Bagaimana model yang baik?\n",
        "5. Kapan kita menggunakan GridSearchcv dan kapan menggunakan RandomizedSearchCV?"
      ]
    },
    {
      "cell_type": "markdown",
      "metadata": {
        "id": "4a1l4RNf_FcU"
      },
      "source": [
        "Jawab:\n",
        "1. <p>- Bias merupakan error reducable yang didefenisikan sebagai perbedaan dari rata-rata prediksi oleh model yang dibuat terhadap nilai yang sebenarnya, disebabkan oleh model yang terlalu sederhana.\n",
        "<p>- Variance merupakan error reducable yang didefenisikan sebagai variabilitas dari model prediksi untuk data yang diberikan (ukuran penyebaran data), disebabkan oleh training yang terlalu banyak\n",
        "\n",
        "2. <p>- Overfitting merupakan fit (penyesuaian) yang berlebihan, sehingga model seakan-akan menghapal data tanpa mengetahui pola trendnya. Overfitting akan mengakibatkan skor training yang baik, tetapi skor validasinya buruk. <p>- Underfitting merupakan fit(penyesuaian) yang kurang, sehingga model tidak dapat menganalisis data secara menyeluruh. Underfitting akan mengakibatkan skor training dan validasi yang buruk.\n",
        "\n",
        "3. Melakukan tuning hyperparamater, baik itu secara manual ataupun menggunakan fungsi bantuan.\n",
        "\n",
        "4. <p>- Model yang baik memiliki nilai training scores dan test scores yang tinggi, serta rentang antara keduanya tidak berjauhan. <p>- Model yang baik juga memiliki bias dan variance yang kecil (optimal pada titik cut off/trade off)\n",
        "\n",
        "5. <p>- GridSearchcv digunakan apabila kita ingin melakukan tuning parameter secara otomatis dengan memperhatikan keseluruhan data trainingnya. Metode ini akan memakan waktu yang lebih lama, tapi memberikan hasil yang lebih representatif dan paling baik. <p>- RandomizedSearchcv digunakan apabila kita ingin melakukan tuning parameter secara otomatis dengan beberapa data training saja yand dipilih secara random. Metode ini akan memakan waktu yang lebih cepat, tapi hasilnya belum tentu yang terbaik dan representatif."
      ]
    },
    {
      "cell_type": "markdown",
      "metadata": {
        "id": "Svj_cgxF_IZv"
      },
      "source": [
        "---"
      ]
    },
    {
      "cell_type": "markdown",
      "metadata": {
        "id": "Hkh-PeRL_LZp"
      },
      "source": [
        "<h1> Soal 4: Aplikasi Model Selection</h1>\n",
        "\n",
        "1. Bagi kedua data berikut ini menjadi data training dan data test dengan test_size=0.25.\n",
        "2. Gunakan algoritma KNN sebagai model classifier.\n",
        "3. Gunakan fungsi GridSearchCV untuk hyperparameter tuning dan model selection.\n",
        "4. jumlah fold bebas!, gunakan scoring 'roc_auc'\n",
        "5. Definisikan kombinasi hyperparameter untuk model selection dengan GridSearchCV. kombinasi Hyperparameter bebas, baca lagi dokumentasi KNN di link berikut https://scikit-learn.org/stable/modules/generated/sklearn.neighbors.KNeighborsClassifier.html untuk memahami lagi jenis2 hyperparameter di algorithma KNN.\n",
        "6. Latih model terhadap data training.\n",
        "7. Apa hyperparameter terbaik untuk kombinasi hyperparameter kalian?\n",
        "8. Berapa score validasi terbaik dari model tersebut?\n",
        "9. Prediksi probabilitasi output dari model yang telah di buat terhadap data test. note : gunakan method .predict_proba() untuk menghasilkan output probabilitas\n",
        "10. Perhatikan bahwa hasil prediksi ada 2, dimana masing2 adalah nilai probabilitas untuk setiap class label. Ambil nilai probabilitas pasien phositive meninggal dalam waktu kurang dari 5 tahun. note : gunakan bantuan attirubte .classes_ untuk mengetahui urutan label dari hasil prediksi probabilitas.\n",
        "11. Berapa nilai score roc_auc untuk data test?\n",
        "12. Apakah model anda termasuk baik, overtting, atau underfitting?\n",
        "13. Ulangi tahap di atas namun kali ini menggunakan algoritma DecisionTreeClassifier dan kalian bisa menggunakan RandomizedSearchCV apabila process training lama. pelajari algoritma DecisionTreeClassifier di linkberikut: https://scikit-learn.org/stable/modules/generated/sklearn.tree.DecisionTreeClassifier.html?highlight=decisiontreeclassifier#sklearn.tree.DecisionTreeClassifier\n",
        "14. Bandingkan scorenya dengan Algoritma KNN, mana yang lebih baik?\n",
        "\n",
        "Note : Data Science adalah experiment, sangat di dimungkinkan memerlukan beberapa kali percobaan untuk mendapatkan hasil yang terbaik! Happy Coding :)"
      ]
    },
    {
      "cell_type": "code",
      "metadata": {
        "id": "l_zK8Mqb-9Z6"
      },
      "source": [
        "import pandas as pd\n",
        "\n",
        "url = 'https://raw.githubusercontent.com/jbrownlee/Datasets/master/haberman.csv'\n",
        "list_cols = ['Age', \"Patient's Years\", \"N_positive_ax\", \"survival_status\"]\n",
        "df = pd.read_csv(url, names=list_cols)"
      ],
      "execution_count": null,
      "outputs": []
    },
    {
      "cell_type": "code",
      "metadata": {
        "id": "qb-AD43R_V_d",
        "colab": {
          "base_uri": "https://localhost:8080/",
          "height": 197
        },
        "outputId": "e500d4bd-1d7d-4ccc-dc6b-f59e5d546e41"
      },
      "source": [
        "df.head()"
      ],
      "execution_count": null,
      "outputs": [
        {
          "output_type": "execute_result",
          "data": {
            "text/html": [
              "<div>\n",
              "<style scoped>\n",
              "    .dataframe tbody tr th:only-of-type {\n",
              "        vertical-align: middle;\n",
              "    }\n",
              "\n",
              "    .dataframe tbody tr th {\n",
              "        vertical-align: top;\n",
              "    }\n",
              "\n",
              "    .dataframe thead th {\n",
              "        text-align: right;\n",
              "    }\n",
              "</style>\n",
              "<table border=\"1\" class=\"dataframe\">\n",
              "  <thead>\n",
              "    <tr style=\"text-align: right;\">\n",
              "      <th></th>\n",
              "      <th>Age</th>\n",
              "      <th>Patient's Years</th>\n",
              "      <th>N_positive_ax</th>\n",
              "      <th>survival_status</th>\n",
              "    </tr>\n",
              "  </thead>\n",
              "  <tbody>\n",
              "    <tr>\n",
              "      <th>0</th>\n",
              "      <td>30</td>\n",
              "      <td>64</td>\n",
              "      <td>1</td>\n",
              "      <td>1</td>\n",
              "    </tr>\n",
              "    <tr>\n",
              "      <th>1</th>\n",
              "      <td>30</td>\n",
              "      <td>62</td>\n",
              "      <td>3</td>\n",
              "      <td>1</td>\n",
              "    </tr>\n",
              "    <tr>\n",
              "      <th>2</th>\n",
              "      <td>30</td>\n",
              "      <td>65</td>\n",
              "      <td>0</td>\n",
              "      <td>1</td>\n",
              "    </tr>\n",
              "    <tr>\n",
              "      <th>3</th>\n",
              "      <td>31</td>\n",
              "      <td>59</td>\n",
              "      <td>2</td>\n",
              "      <td>1</td>\n",
              "    </tr>\n",
              "    <tr>\n",
              "      <th>4</th>\n",
              "      <td>31</td>\n",
              "      <td>65</td>\n",
              "      <td>4</td>\n",
              "      <td>1</td>\n",
              "    </tr>\n",
              "  </tbody>\n",
              "</table>\n",
              "</div>"
            ],
            "text/plain": [
              "   Age  Patient's Years  N_positive_ax  survival_status\n",
              "0   30               64              1                1\n",
              "1   30               62              3                1\n",
              "2   30               65              0                1\n",
              "3   31               59              2                1\n",
              "4   31               65              4                1"
            ]
          },
          "metadata": {
            "tags": []
          },
          "execution_count": 11
        }
      ]
    },
    {
      "cell_type": "code",
      "metadata": {
        "id": "znc1dEGO_XU2",
        "colab": {
          "base_uri": "https://localhost:8080/",
          "height": 318
        },
        "outputId": "1a941bb2-e29d-4915-c10a-dda76798bc7a"
      },
      "source": [
        "# Code here\n",
        "\n",
        "from sklearn.neighbors import KNeighborsClassifier\n",
        "from sklearn.model_selection import cross_val_score\n",
        "from sklearn.model_selection import GridSearchCV, RandomizedSearchCV\n",
        "from sklearn.metrics import roc_auc_score\n",
        "from sklearn.tree import DecisionTreeClassifier\n",
        "import numpy as np\n",
        "\n",
        "X = df.drop('survival_status', axis=1)\n",
        "y = df['survival_status']\n",
        "\n",
        "from sklearn.model_selection import train_test_split\n",
        "\n",
        "X_train, X_test, y_train, y_test = train_test_split(X, y, test_size=0.25, random_state=21, stratify=y)\n",
        "\n",
        "print('Cara KNeighborsClassifier : \\n')\n",
        "model_knn = KNeighborsClassifier()\n",
        "param_grid_knn = {'n_neighbors':np.arange(5,60), 'weights':['distance','uniform']}\n",
        "gscv_knn = GridSearchCV(model_knn, param_grid=param_grid_knn, scoring='roc_auc', cv=10)\n",
        "gscv_knn.fit(X_train,y_train)\n",
        "\n",
        "print('Hyperparameter terbaik :')\n",
        "print(gscv_knn.best_params_)\n",
        "\n",
        "print(f'Score Validasi : {gscv_knn.best_score_}')\n",
        "\n",
        "out_pred_prob_knn = gscv_knn.predict_proba(X_test)\n",
        "out_pred_prob_knn_2 = out_pred_prob_knn[:,1]\n",
        "print(f'Score roc_auc : {roc_auc_score(y_test, out_pred_prob_knn_2)}')\n",
        "\n",
        "print('\\n')\n",
        "print('############################################################################')\n",
        "print('\\n')\n",
        "\n",
        "print('Cara DecisionTreeClassifier : \\n')\n",
        "model_dct = DecisionTreeClassifier()\n",
        "param_grid_dct = {'max_depth':np.arange(2,11), 'min_samples_leaf':np.arange(1,6)}\n",
        "gscv_dct = GridSearchCV(model_dct, param_grid=param_grid_dct, scoring='roc_auc', cv=10)\n",
        "gscv_dct.fit(X_train,y_train)\n",
        "\n",
        "print('Hyperparameter terbaik :')\n",
        "print(gscv_dct.best_params_)\n",
        "\n",
        "print(f'Score Validasi : {gscv_dct.best_score_}')\n",
        "\n",
        "out_pred_prob_dct = gscv_dct.predict_proba(X_test)\n",
        "out_pred_prob_dct_2 = out_pred_prob_dct[:,1]\n",
        "print(f'Score roc_auc : {roc_auc_score(y_test, out_pred_prob_dct_2)}')\n",
        "####\n",
        "\n"
      ],
      "execution_count": null,
      "outputs": [
        {
          "output_type": "stream",
          "text": [
            "Cara KNeighborsClassifier : \n",
            "\n",
            "Hyperparameter terbaik :\n",
            "{'n_neighbors': 8, 'weights': 'distance'}\n",
            "Score Validasi : 0.7094012605042017\n",
            "Score roc_auc : 0.6166666666666667\n",
            "\n",
            "\n",
            "############################################################################\n",
            "\n",
            "\n",
            "Cara DecisionTreeClassifier : \n",
            "\n",
            "Hyperparameter terbaik :\n",
            "{'max_depth': 3, 'min_samples_leaf': 1}\n",
            "Score Validasi : 0.6520220588235295\n",
            "Score roc_auc : 0.6052631578947368\n"
          ],
          "name": "stdout"
        }
      ]
    },
    {
      "cell_type": "markdown",
      "metadata": {
        "id": "oxGQ_Mho279X"
      },
      "source": [
        "Pada kasus ini, dapat dilihat berdasarkan data yang diperoleh, bahwa kedua model bersifat underfitting (apabia validasi 0.7 dapat diterima, maka model kNN termasuk overvitting, dikarenakan score test (roc_auc)nya yang buruk serta memiliki rentang yang jauh. Jika dilihat berdasarkan score, maka algoritma KNN lebih baik dibandingkan DecisionTreeRegressor."
      ]
    }
  ]
}